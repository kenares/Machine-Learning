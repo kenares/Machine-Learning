{
 "cells": [
  {
   "cell_type": "markdown",
   "metadata": {},
   "source": [
    "### Neural Networks\n",
    "Many machine learning prediction problems are rooted in complex data and its non-linear relationships between features. Neural networks are a class of models that can learn these non-linear interactions between variables.\n",
    "\n",
    "1. <b>import data</b>\n",
    "2. <b>Neurons</b>\n",
    "3. <b>Cost Function</b>\n",
    "4. <b> The Gradient</b>\n",
    "5. <b>Two layer Network</b>\n",
    "6. <b>Neural network</b>\n",
    "7. <b>Multiple Neural Network Cost Function</b>\n",
    "8. <b>Backpropagation</b>\n",
    "9. <b>Predicting Iris Flowers</b>"
   ]
  },
  {
   "cell_type": "code",
   "execution_count": 1,
   "metadata": {
    "collapsed": true
   },
   "outputs": [],
   "source": [
    "import json\n",
    "import matplotlib\n",
    "import warnings\n",
    "import pandas as pd\n",
    "import numpy as np\n",
    "from matplotlib import pyplot as plt\n",
    "from IPython.core.pylabtools import figsize\n",
    "from mpl_toolkits.mplot3d import Axes3D\n",
    "from sklearn.metrics import roc_auc_score\n",
    "\n",
    "warnings.simplefilter(\"ignore\")\n",
    "root = r\"/Users/Kenneth-Aristide/anaconda3/bin/python_prog/ML/styles/bmh_matplotlibrc.json\"\n",
    "s = json.load(open(root))\n",
    "matplotlib.rcParams.update(s)\n",
    "% matplotlib inline"
   ]
  },
  {
   "cell_type": "code",
   "execution_count": 2,
   "metadata": {
    "collapsed": false
   },
   "outputs": [
    {
     "data": {
      "text/html": [
       "<div>\n",
       "<table border=\"1\" class=\"dataframe\">\n",
       "  <thead>\n",
       "    <tr style=\"text-align: right;\">\n",
       "      <th></th>\n",
       "      <th>sepal_length</th>\n",
       "      <th>sepal_width</th>\n",
       "      <th>petal_length</th>\n",
       "      <th>petal_width</th>\n",
       "      <th>species</th>\n",
       "    </tr>\n",
       "  </thead>\n",
       "  <tbody>\n",
       "    <tr>\n",
       "      <th>145</th>\n",
       "      <td>6.7</td>\n",
       "      <td>3.0</td>\n",
       "      <td>5.2</td>\n",
       "      <td>2.3</td>\n",
       "      <td>Iris-virginica</td>\n",
       "    </tr>\n",
       "    <tr>\n",
       "      <th>146</th>\n",
       "      <td>6.3</td>\n",
       "      <td>2.5</td>\n",
       "      <td>5.0</td>\n",
       "      <td>1.9</td>\n",
       "      <td>Iris-virginica</td>\n",
       "    </tr>\n",
       "    <tr>\n",
       "      <th>147</th>\n",
       "      <td>6.5</td>\n",
       "      <td>3.0</td>\n",
       "      <td>5.2</td>\n",
       "      <td>2.0</td>\n",
       "      <td>Iris-virginica</td>\n",
       "    </tr>\n",
       "    <tr>\n",
       "      <th>148</th>\n",
       "      <td>6.2</td>\n",
       "      <td>3.4</td>\n",
       "      <td>5.4</td>\n",
       "      <td>2.3</td>\n",
       "      <td>Iris-virginica</td>\n",
       "    </tr>\n",
       "    <tr>\n",
       "      <th>149</th>\n",
       "      <td>5.9</td>\n",
       "      <td>3.0</td>\n",
       "      <td>5.1</td>\n",
       "      <td>1.8</td>\n",
       "      <td>Iris-virginica</td>\n",
       "    </tr>\n",
       "  </tbody>\n",
       "</table>\n",
       "</div>"
      ],
      "text/plain": [
       "     sepal_length  sepal_width  petal_length  petal_width         species\n",
       "145           6.7          3.0           5.2          2.3  Iris-virginica\n",
       "146           6.3          2.5           5.0          1.9  Iris-virginica\n",
       "147           6.5          3.0           5.2          2.0  Iris-virginica\n",
       "148           6.2          3.4           5.4          2.3  Iris-virginica\n",
       "149           5.9          3.0           5.1          1.8  Iris-virginica"
      ]
     },
     "execution_count": 2,
     "metadata": {},
     "output_type": "execute_result"
    }
   ],
   "source": [
    "headers = ['sepal_length', 'sepal_width', 'petal_length', 'petal_width', 'species']\n",
    "iris = pd.read_csv(\"/Users/Kenneth-Aristide/anaconda3/bin/python_prog/ML/data/iris.csv\", names = headers)\n",
    "iris.tail()"
   ]
  },
  {
   "cell_type": "code",
   "execution_count": 3,
   "metadata": {
    "collapsed": false
   },
   "outputs": [],
   "source": [
    "iris.sepal_length =( iris.sepal_length  - iris.sepal_length.mean())/ iris.sepal_length.std()\n",
    "iris.sepal_width =( iris.sepal_width  - iris.sepal_width.mean())/ iris.sepal_width.std()\n",
    "iris.petal_length =( iris.petal_length - iris.petal_length.mean())/ iris.petal_length.std()\n",
    "iris.sepal_length =( iris.petal_width  - iris.petal_width.mean())/ iris.petal_width.std()"
   ]
  },
  {
   "cell_type": "code",
   "execution_count": 4,
   "metadata": {
    "collapsed": false
   },
   "outputs": [
    {
     "data": {
      "image/png": "[encoded data removed]",
      "text/plain": [
       "<matplotlib.figure.Figure at 0x119d96518>"
      ]
     },
     "metadata": {},
     "output_type": "display_data"
    }
   ],
   "source": [
    "figsize(12.5, 4)\n",
    "shuffled_index = np.random.permutation(iris.index)\n",
    "iris = iris.loc[shuffled_index, :]\n",
    "iris.hist(bins = 20, color = \"r\");"
   ]
  },
  {
   "cell_type": "markdown",
   "metadata": {},
   "source": [
    "So far we have talked about methods which do not allow for a large amount of non-linearity. For example, in the two dimensional case shown below, we want to find a function that can cleanly seperate the X's from the O's.\n",
    "<img src=\"http://localhost:8888/files/python_prog/ML/img/iris.png\", width = 300/>\n",
    "Neither a linear model nor logistic model is capable of building such a function, so we must explore other options like $neural$ $networks$. Neural networks are very loosely inspired by the structure of neurons in the human brain. These models are built by using a series of activation units, known as neurons, to make predictions of some outcome. Neurons take in some input, apply a transformation function, and return an output. Below we see a representation of a neuron.\n",
    "<img src=\"http://localhost:8888/files/python_prog/ML/img/iris2.png\", width = 300/>\n",
    "This neuron is taking in 5 units represented as x, a bias unit, and 4 features. This bias unit (1) is similar in concept to the intercept in linear regression and it will shift the activity of the neuron to one direction or the other. These units are then fed into an activation function $h$.\n",
    "We will use the popular sigmoid (logistic) activation function because it returns values between 0 and 1 and can be treated as probabilities.<br><br>\n",
    "<center><i><b>Sigmoid Function</b></i> : $g(z) = \\frac{1}{1 + \\exp(-z)}$</center><br>\n",
    "This sigmoid function then leads to the corresponding $activation$ $function$ : <br><br>\n",
    "<center><i><b>Sigmoid Activation Function</b></i> : $h_{\\theta}(x) = \\frac{1}{1 + \\exp(-\\Theta^Tx)} = \n",
    "\\frac{1}{1 + \\exp(-(\\theta_01 + \\theta_1x_1 + \\theta_2x_2))}$</center>"
   ]
  },
  {
   "cell_type": "code",
   "execution_count": 5,
   "metadata": {
    "collapsed": false
   },
   "outputs": [
    {
     "data": {
      "text/plain": [
       "array([ 0.49928276])"
      ]
     },
     "execution_count": 5,
     "metadata": {},
     "output_type": "execute_result"
    }
   ],
   "source": [
    "iris[\"ones\"] = np.ones(iris.shape[0])\n",
    "X = iris[['ones', 'sepal_length', 'sepal_width', 'petal_length', 'petal_width']].values\n",
    "y = (iris.species == 'Iris-versicolor').values.astype(int)\n",
    "\n",
    "#randomly initialize the thetas\n",
    "theta_init = np.random.normal(0, 0.01, size = (5, 1))\n",
    "\n",
    "def sigmoid_activation(x, theta):\n",
    "    \"\"\"\n",
    "    Convenience function:\n",
    "        compute the sigmoid activation of the NNet\n",
    "    \"\"\"\n",
    "    x = np.asarray(x)\n",
    "    theta = np.asarray(theta)\n",
    "    frac = 1 + np.exp(-np.dot(theta.T, x))\n",
    "    return 1 / frac\n",
    "\n",
    "a1 = sigmoid_activation(X[0], theta_init)\n",
    "a1"
   ]
  },
  {
   "cell_type": "markdown",
   "metadata": {},
   "source": [
    "### Cost Function\n",
    "We can train a single neuron as a two layer network using <i>gradient descent</i>. As we learned in $GradientDescent.py$, we need to minimize a cost function which measures the error in our model. The cost function measures the difference between the desired output and actual output, defined as:\n",
    "$$J(\\Theta) = -\\frac{1}{m} \\sum_{i=1}^m (y_i * log(h_{\\theta}(x_i)) + (1 - y_i) * log(1 - h_{\\theta}(x_i)) $$\n",
    "\n",
    "Since our targets,$y_i$,are binary, either $y_i$ or $(1− y_i)$ will equal zero. One of the terms in the summation will disappear because of this result and the activation function is then used to compute the error. For example, if we observe a true target, $y_i$ = 1, then we want $h_{\\theta}(x_i)$ to also be close to 1.<br> So as $h_{\\theta}(x_i)$ approaches 1, the $log(h_{\\theta}(x_i))$ becomes very close to 0. Since the log of a value between 0 and 1 is negative, we must take the negative of the entire summation to compute the cost.<br> The parameters are randomly initialized using a normal random variable with a small variance, less than 0.1."
   ]
  },
  {
   "cell_type": "code",
   "execution_count": 6,
   "metadata": {
    "collapsed": false
   },
   "outputs": [
    {
     "data": {
      "text/plain": [
       "0.69458268663325162"
      ]
     },
     "execution_count": 6,
     "metadata": {},
     "output_type": "execute_result"
    }
   ],
   "source": [
    "def singlecost(X, y, theta):\n",
    "    \"\"\"\n",
    "    Convenience function:\n",
    "        compute the cost from just a single observation\n",
    "    \"\"\"\n",
    "    h = sigmoid_activation(X.T, theta)\n",
    "    cost = -np.mean(y * np.log(h) + (1 - y) * np.log(1 - h))\n",
    "    return cost\n",
    "    \n",
    "first_cost = singlecost(X[0], y[0], theta_init)\n",
    "first_cost"
   ]
  },
  {
   "cell_type": "markdown",
   "metadata": {},
   "source": [
    "### Compute the Gradients\n",
    "we need to compute <b>the partial deriviatives </b> of the cost function to get the gradients. Calculating derivatives are more complicated in neural networks than in linear regression. Here we must compute the overall error and then distribute that error to each parameter. Compute the derivative using the chain rule : \n",
    "$$ \\frac{\\partial J}{\\partial \\theta_j} = \\frac{\\partial J}{\\partial h(\\Theta)} \\frac{\\partial h(\\Theta)}{\\partial \\theta_j} $$\n",
    "The first part is computing the error between the target variable and prediction. The second part then computes the sensitivity relative to each parameter. In the end, the gradients are computed as: \n",
    "$$ \\delta = (y_i - h_{\\Theta}(x_i)) * h_{\\Theta}(x_i) * (1 - h_{\\Theta}(x_i)) * x_i  $$\n",
    "<i>Now we will step through the math:</i><br> $(y_i - h_{\\Theta}(x_i))$ is a scalar and the error between our target and prediction.<br>\n",
    "$h_{\\Theta}(x_i) * (1 - h_{\\Theta}(x_i))$ is also a scalar and the sensitivity of the activation function.<br>\n",
    "$x_i$ is the features for our observation $i$.<br>\n",
    "$\\delta$ is then a vector of length 5, 4 features plus a bias unit, corresponding to the gradients.<br>\n",
    "To implement this, we compute $\\delta$ for each observation, then average to get the average gradient. The average gradient is then used to update the corresponding parameters."
   ]
  },
  {
   "cell_type": "code",
   "execution_count": 7,
   "metadata": {
    "collapsed": false
   },
   "outputs": [],
   "source": [
    "n =  X.shape[0]\n",
    "grads = np.zeros(theta_init.shape)\n",
    "\n",
    "for j, obs in enumerate(X):\n",
    "    h = sigmoid_activation(obs, theta_init)\n",
    "    delta = (y[j] - h) * h * (1 - h) * obs\n",
    "    grads += delta[:, np.newaxis] / n"
   ]
  },
  {
   "cell_type": "markdown",
   "metadata": {},
   "source": [
    "### Two layer Network\n",
    "Now that you can compute the gradients, use gradient descent to learn the parameters and predict the species of iris flower given the 4 features. Gradient descent minimizes the cost function by adjusting the parameters accordingly. Adjust the parameters by substracting the product of the gradients and the learning rate from the previous parameters. Repeat until the cost function coverges or a maximum number of iterations is reached<br>\n",
    "\n",
    "The high level algortithm is:<br>\n",
    "<center>while (number_of_iterations < max_iterations and (prev_cost - cost) > convergence_thres ) {<br>\n",
    "    <i>update paramaters</i><br>\n",
    "    <i>get new cost</i><br>\n",
    "    <i>repeat<i/><br>\n",
    "}</center>"
   ]
  },
  {
   "cell_type": "code",
   "execution_count": 8,
   "metadata": {
    "collapsed": false
   },
   "outputs": [
    {
     "data": {
      "image/png": "[encoded data removed]",
      "text/plain": [
       "<matplotlib.figure.Figure at 0x119d961d0>"
      ]
     },
     "metadata": {},
     "output_type": "display_data"
    }
   ],
   "source": [
    "learning_rate = 0.1\n",
    "maxepochs = 10000\n",
    "convergence_thres = 0.0001\n",
    "\n",
    "def learn(X, y, theta, learning_rate, maxepochs, convergence_thres):\n",
    "    \"\"\"\n",
    "    Convenience function:\n",
    "        learn a two layer Neural Networks\n",
    "    \"\"\"\n",
    "    costs = []\n",
    "    cost = singlecost(X, y, theta)\n",
    "    costprev = cost + convergence_thres + 0.01\n",
    "    counter = 0\n",
    "    \n",
    "    #loop through until convergence\n",
    "    for counter in np.arange(maxepochs):\n",
    "        grads = np.zeros(theta.shape)\n",
    "        for j, obs in enumerate(X):\n",
    "            h = sigmoid_activation(obs, theta)\n",
    "            delta = (y[j] - h) * h * (1 - h) * obs\n",
    "            grads += delta[:, np.newaxis] / X.shape[0]\n",
    "            \n",
    "        #update parameters\n",
    "        theta += grads * learning_rate\n",
    "        counter += 1\n",
    "        costprev = cost\n",
    "        cost = singlecost(X, y, theta)\n",
    "        costs.append(cost)\n",
    "        if np.abs(costprev - cost) < convergence_thres:\n",
    "            break\n",
    "        \n",
    "    figsize(12.5, 4)\n",
    "    plt.plot(costs)\n",
    "    plt.title(\"Convergence of the cost function\")\n",
    "    plt.ylabel(\"J($\\Theta$)\")\n",
    "    plt.xlabel(\"Iteration\")\n",
    "    plt.legend();\n",
    "    return theta\n",
    "    \n",
    "theta = learn(X, y, theta_init, learning_rate, maxepochs, convergence_thres)"
   ]
  },
  {
   "cell_type": "markdown",
   "metadata": {},
   "source": [
    "### Neural Network\n",
    "Neural networks are usually built using mulitple layers of neurons. Adding more layers into the network allows you to learn more complex functions. Here's a picture representing a 3 layer neural network : \n",
    "<img src=\"http://localhost:8888/files/python_prog/ML/img/iris3.png\", width = 300/>\n",
    "We have a 3 layer neural network with four input variables $x_1$, $x_2$, $x_3$, and $x_4$ and a bias unit. Each variable and bias unit is then sent to four hidden units, $a_1^2$,$a_2^2$,$a_3^2$, and $a_4^2$. <br>The hidden units have different sets of parameters $\\theta$.<br>\n",
    "$$ a_1^2 = g(\\theta_{1,0}^{(1)} + \\theta_{1,1}^{(1)}x_1 + \\theta_{1,2}^{(1)}x_2 + \\theta_{1,3}^{(1)}x_3 + \\theta_{1,4}^{(1)}x_4 )$$<br>\n",
    "$$ a_2^2 = g(\\theta_{2,0}^{(1)} + \\theta_{2,1}^{(1)}x_1 + \\theta_{2,2}^{(1)}x_2 + \\theta_{2,3}^{(1)}x_3 + \\theta_{2,4}^{(1)}x_4 )$$<br>\n",
    "$$ a_3^2 = g(\\theta_{3,0}^{(1)} + \\theta_{3,1}^{(1)}x_1 + \\theta_{3,2}^{(1)}x_2 + \\theta_{3,3}^{(1)}x_3 + \\theta_{3,4}^{(1)}x_4 )$$<br>\n",
    "$$ a_4^2 = g(\\theta_{4,0}^{(1)} + \\theta_{4,1}^{(1)}x_1 + \\theta_{4,2}^{(1)}x_2 + \\theta_{4,3}^{(1)}x_3 + \\theta_{4,4}^{(1)}x_4 )$$<br>\n",
    "$\\theta_{i,k}^j$ represents the parameter of input unit $k$ which transform the units in layer $j$ to activation unit $a_i^{(j+1)}$\n",
    "\n",
    "This layer is known as a hidden layer because the user does not directly interact with it by passing or retrieving data. The third and final layer is the output, or prediction, of our model. Similar to how each variable was sent to each neuron in the hidden layer, the activation units in each neuron are then sent to each neuron on the next layer. Since there is only a single layer, we can write it as:<br><br>\n",
    "$$h_{\\Theta}(X) = g(\\theta_{1,0}^{(2)} + \\theta_{1,1}^{(2)}a_1 + \\theta_{1,2}^{(2)}a_2 + \\theta_{1,3}^{(2)}a_3 + \\theta_{1,4}^{(2)}a_4 )$$<br>\n",
    "While the mathematical notation may seem confusing at first, at a high level, we are organizing multiple logistic regression models to create a more complex function."
   ]
  },
  {
   "cell_type": "code",
   "execution_count": 9,
   "metadata": {
    "collapsed": false
   },
   "outputs": [],
   "source": [
    "def feedforward(x, theta_0, theta_1):\n",
    "    \"\"\"\n",
    "    Convenince function:\n",
    "        compute the output of a 3 layer NNets\n",
    "        feedforward to the first layer\n",
    "        add a colum of ones for the bias term\n",
    "    \"\"\"\n",
    "    a1 = sigmoid_activation(x.T, theta_0).T\n",
    "    a1 = np.column_stack([np.ones(a1.shape[0]), a1])\n",
    "    out = sigmoid_activation(a1.T, theta_1)\n",
    "    return out\n",
    "\n",
    "theta0_init = np.random.normal(0, 0.1, size = (5, 4))\n",
    "theta1_init = np.random.normal(0, 0.1, size = (5, 1))\n",
    "h = feedforward(X, theta0_init, theta1_init)    "
   ]
  },
  {
   "cell_type": "markdown",
   "metadata": {},
   "source": [
    "### Multiple Neural Network Cost Function\n",
    "The cost function to multiple layer neural networks is identical to the cost function we used in the last screen, but $h_{\\theta}(x)$\n",
    "is more complicated.\n",
    "$$J(\\Theta) = -\\frac{1}{m} \\sum_{i=1}^m (y_i * log(h_{\\theta}(x_i)) + (1 - y_i) * log(1 - h_{\\theta}(x_i)) $$"
   ]
  },
  {
   "cell_type": "code",
   "execution_count": 10,
   "metadata": {
    "collapsed": true
   },
   "outputs": [],
   "source": [
    "def multiplecost(X, y, theta0, theta1):\n",
    "    \"\"\"\n",
    "    Convenience function:\n",
    "        \n",
    "    \"\"\"\n",
    "    h = feedforward(X, theta0, theta1)\n",
    "    cost = -np.mean(y * np.log(h) + (1 - y) * np.log(1 - h))\n",
    "    return cost\n",
    "\n",
    "c = multiplecost(X, y, theta0_init, theta1_init)"
   ]
  },
  {
   "cell_type": "markdown",
   "metadata": {},
   "source": [
    "### Backpropagation\n",
    "Now that we have mulitple layers of parameters to learn, we must implement a method called $backpropagation$. We've already implemented forward propagation by feeding the data through each layer and returning an output. Backpropagation focuses on updating parameters starting at the last layer and circling back through each layer, updating accordingly.\n",
    "As there are multiple layers we are forced to compute : $$ \\frac{\\partial}{\\partial \\Theta_{i,j}^{(l)}}J(\\Theta)$$\n",
    "where $l$ is the layer. For a three layer network, use the following approach,\n",
    "$\\delta_{j}^l$ is the <i>error</i> for unit $j$ in layer $l$.<br>\n",
    "$$\\delta^3 = h_{\\Theta}(X) - y$$<br>\n",
    "$$\\delta^2 = (\\Theta^{(2)})^T \\delta^3 .* g'(z^{(2)})$$\n",
    "<i>There is no $\\delta^1$ since the first layer are the features and have no error.</i>"
   ]
  },
  {
   "cell_type": "code",
   "execution_count": 11,
   "metadata": {
    "collapsed": false
   },
   "outputs": [],
   "source": [
    "class NNet3:\n",
    "    def __init__(self, learning_rate=0.5, maxepochs=1e4, convergence_thres=1e-5, hidden_layer=4):\n",
    "        \"\"\"\n",
    "        convenience function:\n",
    "            initialiaze the NNet parameters\n",
    "        \"\"\"\n",
    "        self.learning_rate = learning_rate\n",
    "        self.maxepochs = int(maxepochs)\n",
    "        self.convergence_thres = 1e-5\n",
    "        self.hidden_layer = int(hidden_layer)\n",
    "        \n",
    "    def _multiplecost(self, X, y):\n",
    "        l1, l2 =  self._feedforward(X)\n",
    "        inner = y * np.log(l2) + (1 - y) * np.log(1 - l2) # error\n",
    "        return -np.mean(inner)\n",
    "    \n",
    "    def _feedforward(self, X):\n",
    "        l1 = sigmoid_activation(X.T, self.theta0).T\n",
    "        l1 = np.column_stack([np.ones(l1.shape[0]), l1])\n",
    "        l2 = sigmoid_activation(l1.T, self.theta1)\n",
    "        return l1, l2\n",
    "    \n",
    "    def predict(self, X):\n",
    "        _, y = self._feedforward(X)\n",
    "        return y\n",
    "    \n",
    "    def learn(self, X, y):\n",
    "        nobs, ncols = X.shape\n",
    "        self.theta0 = np.random.normal(0, 0.01, size = (ncols, self.hidden_layer))\n",
    "        self.theta1 = np.random.normal(0, 0.01, size = (self.hidden_layer + 1, 1))\n",
    "        \n",
    "        self.costs = []\n",
    "        cost = self._multiplecost(X, y)\n",
    "        self.costs.append(cost)\n",
    "        costprev = cost + self.convergence_thres + 1 # set an initial costprev to past while loop\n",
    "        counter = 0 # initialize counter\n",
    "        \n",
    "        for counter in np.arange(self.maxepochs): # loop until convergence\n",
    "            l1, l2 = self._feedforward(X) # start backpropagation, compute gradients\n",
    "            \n",
    "            l2_delta = (y - l2) * l2 * (1 - l2)\n",
    "            l1_delta = l2_delta.T.dot(self.theta1.T) * l1 * (1 - l1)\n",
    "            \n",
    "            # update parameters by averaging gradients and multiplying by the learning rate\n",
    "            self.theta1 += l1.T.dot(l2_delta.T) / nobs * self.learning_rate\n",
    "            self.theta0 += X.T.dot(l1_delta)[:, 1:] / nobs * self.learning_rate\n",
    "            \n",
    "            # Store cost and chech for convergence\n",
    "            counter += 1\n",
    "            costprev = cost\n",
    "            cost = self._multiplecost(X, y)\n",
    "            self.costs.append(cost)\n",
    "            if np.abs(costprev - cost) < self.convergence_thres and counter > 500:\n",
    "                break"
   ]
  },
  {
   "cell_type": "code",
   "execution_count": 12,
   "metadata": {
    "collapsed": false
   },
   "outputs": [
    {
     "data": {
      "image/png": "[encoded data removed]",
      "text/plain": [
       "<matplotlib.figure.Figure at 0x11a272b38>"
      ]
     },
     "metadata": {},
     "output_type": "display_data"
    }
   ],
   "source": [
    "learning_rate = 0.5\n",
    "maxepochs = 10000\n",
    "convergence_thres = 0.00001\n",
    "hidden_units = 4\n",
    "\n",
    "# initialize model\n",
    "model = NNet3(learning_rate=learning_rate, maxepochs=maxepochs,\n",
    "             convergence_thres=convergence_thres, hidden_layer = hidden_units)\n",
    "\n",
    "# train the model\n",
    "model.learn(X, y)\n",
    "\n",
    "# Plot costs\n",
    "plt.plot(model.costs)\n",
    "plt.title(\"Convergence of the cost Function\")\n",
    "plt.xlabel(\"J($\\Theta$)\")\n",
    "plt.xlabel(\"Iteration\")\n",
    "plt.legend();"
   ]
  },
  {
   "cell_type": "markdown",
   "metadata": {},
   "source": [
    "### Splitting data\n",
    "Now that we have learned about neural networks, learned about backpropagation, and have code which will train a 3-layer neural network, we will split the data into training and test datasets and run the model"
   ]
  },
  {
   "cell_type": "code",
   "execution_count": 13,
   "metadata": {
    "collapsed": true
   },
   "outputs": [],
   "source": [
    "X_train = X[:130]\n",
    "y_train = y[:130]\n",
    "X_test = X[-20:]\n",
    "y_test = y[-20:]"
   ]
  },
  {
   "cell_type": "code",
   "execution_count": 14,
   "metadata": {
    "collapsed": true
   },
   "outputs": [],
   "source": [
    "learning_rate = 0.5\n",
    "maxepochs = 10000\n",
    "convergence_thres = 0.00001\n",
    "hidden_units = 4\n",
    "\n",
    "# initialize model\n",
    "model = NNet3(learning_rate=learning_rate, maxepochs=maxepochs,\n",
    "             convergence_thres=convergence_thres, hidden_layer = hidden_units)\n",
    "\n",
    "# train the model\n",
    "model.learn(X_train, y_train)\n",
    "probabilities = model.predict(X_test)\n",
    "auc_score = roc_auc_score(y_test, probabilities[0])"
   ]
  },
  {
   "cell_type": "code",
   "execution_count": 15,
   "metadata": {
    "collapsed": false
   },
   "outputs": [
    {
     "data": {
      "text/plain": [
       "1.0"
      ]
     },
     "execution_count": 15,
     "metadata": {},
     "output_type": "execute_result"
    }
   ],
   "source": [
    "auc_score"
   ]
  }
 ],
 "metadata": {
  "kernelspec": {
   "display_name": "Python 3",
   "language": "python",
   "name": "python3"
  },
  "language_info": {
   "codemirror_mode": {
    "name": "ipython",
    "version": 3
   },
   "file_extension": ".py",
   "mimetype": "text/x-python",
   "name": "python",
   "nbconvert_exporter": "python",
   "pygments_lexer": "ipython3",
   "version": "3.5.2"
  }
 },
 "nbformat": 4,
 "nbformat_minor": 0
}
