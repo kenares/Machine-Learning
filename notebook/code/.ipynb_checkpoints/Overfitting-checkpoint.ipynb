{
 "cells": [
  {
   "cell_type": "markdown",
   "metadata": {},
   "source": [
    "### Overfitting\n",
    "we'll explore how to identify overfitting and what you can do to avoid it.<br>\n",
    "\n",
    "1. <b>import data</b>\n",
    "2. <b>Bias And Variance</b>\n",
    "3. <b>Multivariate Models </b>\n",
    "4. <b> Cross Validation </b>"
   ]
  },
  {
   "cell_type": "code",
   "execution_count": 1,
   "metadata": {
    "collapsed": true
   },
   "outputs": [],
   "source": [
    "import json\n",
    "import matplotlib\n",
    "import pandas as pd\n",
    "import numpy as np\n",
    "import warnings\n",
    "from IPython.core.pylabtools import figsize\n",
    "from sklearn.linear_model import LinearRegression\n",
    "from sklearn.metrics import mean_squared_error\n",
    "from sklearn.cross_validation import KFold\n",
    "from matplotlib import pyplot as plt\n",
    "\n",
    "warnings.simplefilter('ignore')\n",
    "root = r\"/Users/Kenneth-Aristide/anaconda3/bin/python_prog/ML/styles/bmh_matplotlibrc.json\"\n",
    "s = json.load(open(root))\n",
    "matplotlib.rcParams.update(s)\n",
    "% matplotlib inline"
   ]
  },
  {
   "cell_type": "code",
   "execution_count": 2,
   "metadata": {
    "collapsed": false
   },
   "outputs": [
    {
     "data": {
      "text/html": [
       "<div>\n",
       "<table border=\"1\" class=\"dataframe\">\n",
       "  <thead>\n",
       "    <tr style=\"text-align: right;\">\n",
       "      <th></th>\n",
       "      <th>mpg</th>\n",
       "      <th>cylinders</th>\n",
       "      <th>displacement</th>\n",
       "      <th>horsepower</th>\n",
       "      <th>weight</th>\n",
       "      <th>acceleration</th>\n",
       "      <th>model year</th>\n",
       "      <th>origin</th>\n",
       "      <th>car name</th>\n",
       "    </tr>\n",
       "  </thead>\n",
       "  <tbody>\n",
       "    <tr>\n",
       "      <th>393</th>\n",
       "      <td>27.0</td>\n",
       "      <td>4</td>\n",
       "      <td>140.0</td>\n",
       "      <td>86.0</td>\n",
       "      <td>2790.0</td>\n",
       "      <td>15.6</td>\n",
       "      <td>82</td>\n",
       "      <td>1</td>\n",
       "      <td>ford mustang gl</td>\n",
       "    </tr>\n",
       "    <tr>\n",
       "      <th>394</th>\n",
       "      <td>44.0</td>\n",
       "      <td>4</td>\n",
       "      <td>97.0</td>\n",
       "      <td>52.0</td>\n",
       "      <td>2130.0</td>\n",
       "      <td>24.6</td>\n",
       "      <td>82</td>\n",
       "      <td>2</td>\n",
       "      <td>vw pickup</td>\n",
       "    </tr>\n",
       "    <tr>\n",
       "      <th>395</th>\n",
       "      <td>32.0</td>\n",
       "      <td>4</td>\n",
       "      <td>135.0</td>\n",
       "      <td>84.0</td>\n",
       "      <td>2295.0</td>\n",
       "      <td>11.6</td>\n",
       "      <td>82</td>\n",
       "      <td>1</td>\n",
       "      <td>dodge rampage</td>\n",
       "    </tr>\n",
       "    <tr>\n",
       "      <th>396</th>\n",
       "      <td>28.0</td>\n",
       "      <td>4</td>\n",
       "      <td>120.0</td>\n",
       "      <td>79.0</td>\n",
       "      <td>2625.0</td>\n",
       "      <td>18.6</td>\n",
       "      <td>82</td>\n",
       "      <td>1</td>\n",
       "      <td>ford ranger</td>\n",
       "    </tr>\n",
       "    <tr>\n",
       "      <th>397</th>\n",
       "      <td>31.0</td>\n",
       "      <td>4</td>\n",
       "      <td>119.0</td>\n",
       "      <td>82.0</td>\n",
       "      <td>2720.0</td>\n",
       "      <td>19.4</td>\n",
       "      <td>82</td>\n",
       "      <td>1</td>\n",
       "      <td>chevy s-10</td>\n",
       "    </tr>\n",
       "  </tbody>\n",
       "</table>\n",
       "</div>"
      ],
      "text/plain": [
       "      mpg  cylinders  displacement  horsepower  weight  acceleration  \\\n",
       "393  27.0          4         140.0        86.0  2790.0          15.6   \n",
       "394  44.0          4          97.0        52.0  2130.0          24.6   \n",
       "395  32.0          4         135.0        84.0  2295.0          11.6   \n",
       "396  28.0          4         120.0        79.0  2625.0          18.6   \n",
       "397  31.0          4         119.0        82.0  2720.0          19.4   \n",
       "\n",
       "     model year  origin         car name  \n",
       "393          82       1  ford mustang gl  \n",
       "394          82       2        vw pickup  \n",
       "395          82       1    dodge rampage  \n",
       "396          82       1      ford ranger  \n",
       "397          82       1       chevy s-10  "
      ]
     },
     "execution_count": 2,
     "metadata": {},
     "output_type": "execute_result"
    }
   ],
   "source": [
    "# import the data\n",
    "headers =[\"mpg\", \"cylinders\", \"displacement\", \"horsepower\", \"weight\", \"acceleration\", \"model year\",\n",
    "          \"origin\", \"car name\"]\n",
    "\n",
    "_root = '/Users/Kenneth-Aristide/anaconda3/bin/python_prog/ML/data/auto.csv'\n",
    "cars = pd.read_table(_root, delim_whitespace = True, names = headers)\n",
    "filtered_cars = cars[cars['horsepower'] != '?']\n",
    "filtered_cars['horsepower'] = filtered_cars['horsepower'].astype('float')\n",
    "filtered_cars.tail()"
   ]
  },
  {
   "cell_type": "markdown",
   "metadata": {},
   "source": [
    "### Bias And Variance\n",
    "At the heart of understanding overfitting is understanding $bias$ and $variance$. <b>Bias</b> and <b>variance</b> make up the 2 observable sources of error in a model that we can indirectly control.<br><br>\n",
    "Bias describes error that results in bad assumptions about the learning algorithm. For example, assuming that only one feature, like a car's weight, relates to a car's fuel efficiency will lead you to fit a simple, univariate regression model that will result in high bias. The error rate will be high since a car's fuel efficiency is affected by many other factors besides just its weight.<br><br>\n",
    "Variance describes error that occurs because of the variability of a model's predicted values. If we were given a dataset with 1000 features on each car and used every single feature to train an incredibly complicated multivariate regression model, we will have low bias but <i>high variance</i>.<br><br>\n",
    "In an ideal world, we want low bias and low variance but in reality, there's always a tradeoff.\n",
    "\n",
    "### Bias-Variance Tradeoff\n",
    "\n",
    "We've discussed before how overfitting generally happens when a model performs well on a training set but doesn't generalize well to new data. A key nuance here is that you should think of overfitting as a relative term. Between any 2 models, one will overfit more than the other one.<br><br>\n",
    "Understanding the bias variance tradeoff (https://en.wikipedia.org/wiki/Bias–variance_tradeoff) is critical to understanding overfitting. Every process has some amount of inherent noise that's unobservable. Overfit models tend to capture the noise as well as the signal in a dataset.\n",
    "\n",
    "Scott Fortman Roe's blog post on the bias-variance tradeoff has a wonderful image (http://scott.fortmann-roe.com/docs/BiasVariance.html) that describes this tradeoff:<br><br>\n",
    "<img src=\"http://localhost:8888/files/python_prog/ML/img/over.png\", width = 500/>\n",
    "We can approximate the bias of a model by training a few different models from the same class (linear regression in this case) using different features on the same dataset and calculating their error scores. For regression, we can use mean absolute error, mean squared error, or R-squared.\n",
    "\n",
    "We can calculate the variance of the predicted values for each model we train and we'll observe an increase in variance as we build more complex, multivariate models.\n",
    "\n",
    "While an extremely simple, univariate linear regression model will $underfit$, an extremely complicated, multivariate linear regression model will $overfit$. Depending on the problem you're working on, there's a happy middle ground that will help you construct reliable and useful predictive models.\n",
    "\n",
    "Let's first create a function <i>train_and_test</i>, that we can use for training the model and computing the bias and variance values and use it to train some simple, univariate models."
   ]
  },
  {
   "cell_type": "code",
   "execution_count": 3,
   "metadata": {
    "collapsed": false
   },
   "outputs": [],
   "source": [
    "def train_and_test(col_name):\n",
    "    \"\"\"\n",
    "    Convenience function:\n",
    "        Run simple linear regression, compute and return the variance and error\n",
    "    \"\"\"\n",
    "    features = filtered_cars[col_name]\n",
    "    target = filtered_cars[\"mpg\"]\n",
    "    lr = LinearRegression()\n",
    "    lr.fit(features, target)\n",
    "    predictions = lr.predict(features)\n",
    "    \n",
    "    mse = mean_squared_error(target, predictions)\n",
    "    var = np.var(predictions)\n",
    "    return mse, var\n",
    " \n",
    "# train the model using only cylinders\n",
    "cyl_mse, cyl_var = train_and_test([\"cylinders\"])\n",
    "\n",
    "# train the model using only the weight\n",
    "weight_mse, weight_var = train_and_test([\"weight\"])"
   ]
  },
  {
   "cell_type": "markdown",
   "metadata": {},
   "source": [
    "### Multivariate models\n",
    "Now that we have a function for training a regression model and calculating the mean squared error and variance, let's use it to train and understand more complex models"
   ]
  },
  {
   "cell_type": "code",
   "execution_count": 4,
   "metadata": {
    "collapsed": false
   },
   "outputs": [],
   "source": [
    "one_mse, one_var = train_and_test([\"cylinders\"])\n",
    "two_mse, two_var = train_and_test([\"cylinders\", \"displacement\"])\n",
    "three_mse, three_var = train_and_test([\"cylinders\", \"displacement\", \"horsepower\"])\n",
    "four_mse, four_var = train_and_test([\"cylinders\", \"displacement\", \"horsepower\", \"weight\"])\n",
    "five_mse, five_var = train_and_test([\"cylinders\", \"displacement\", \"horsepower\", \"weight\", \"acceleration\"])\n",
    "six_mse, six_var = train_and_test([\"cylinders\", \"displacement\", \"horsepower\", \"weight\", \"acceleration\", \"model year\"])\n",
    "seven_mse, seven_var = train_and_test([\"cylinders\", \"displacement\", \"horsepower\", \"weight\", \"acceleration\",\n",
    "                                       \"model year\", \"origin\"])"
   ]
  },
  {
   "cell_type": "markdown",
   "metadata": {},
   "source": [
    "### Cross Validation\n",
    "The multivariate regression models we trained got progressively better at reducing the amount of error.\n",
    "\n",
    "A good way to detect if the model is overfitting is to compare the $in-sample-error$ and the $out-of-sample-error$, or the training error with the test error. So far, we calculated the in sample error by testing the model over the same data it was trained on. To calculate the out-of-sample error, we need to test the data on a test set of data. We unfortunately don't have a separate test dataset and we'll instead use cross validation.\n",
    "\n",
    "If a model's cross validation error (out-of-sample error) is much higher than the in sample error, then our data science senses should start to tingle. This is the first line of defense against overfitting and is a clear indicator that the trained model doesn't generalize well outside of the training set.\n",
    "\n",
    "Let's create a new function to handle performing the cross validation and computing the cross validation error."
   ]
  },
  {
   "cell_type": "code",
   "execution_count": 6,
   "metadata": {
    "collapsed": true
   },
   "outputs": [],
   "source": [
    "def train_and_cross_val():\n",
    "    \"\"\"\n",
    "    Convenience function:\n",
    "        train a linear regression using KFolds cross validation and \n",
    "        return the average mse and variance across all the folds\n",
    "    \"\"\"\n",
    "    variance_values = []\n",
    "    mse_values = []\n",
    "    \n",
    "    features = filtered_cars[col_name]\n",
    "    target = filtered_cars[\"mpg\"]\n",
    "    \n",
    "    #initialize the cross validation folds\n",
    "    kf = KFold(features.shape[0], n_folds = 10, shuffle = True, random_state = 3)\n",
    "    \n",
    "    #iterate through over each fold.\n",
    "    for train_index, test_index in kf:\n",
    "        X_train, X_test = features.iloc[train_index], features[test_index]\n",
    "        y_train, y_test = target.iloc[train_index], target.iloc[test_index]\n",
    "        \n",
    "        # fit the model and make predictions\n",
    "        lr = LinearRegression()\n",
    "        lr.fit(X_train, y_train)\n",
    "        predictions = lr.predict(X_test)\n",
    "        \n",
    "        # calculate the mse and var\n",
    "        mse = mean_squared_error(y_test, predictions)\n",
    "        var = np.var(predictions)\n",
    "        \n",
    "        variance_values.append(var)\n",
    "        mse_values.append(mse)\n",
    "    \n",
    "    avg_mse = np.mean(variance_values)\n",
    "    avg_var = np.mean(mse_values)\n",
    "    \n",
    "    return avg_mse, avg_var\n",
    "        \n",
    "\n",
    "    \n",
    "    \n",
    "    \n",
    "\n",
    "one_mse, one_var = train_and_test([\"cylinders\"])\n",
    "two_mse, two_var = train_and_test([\"cylinders\", \"displacement\"])\n",
    "three_mse, three_var = train_and_test([\"cylinders\", \"displacement\", \"horsepower\"])\n",
    "four_mse, four_var = train_and_test([\"cylinders\", \"displacement\", \"horsepower\", \"weight\"])\n",
    "five_mse, five_var = train_and_test([\"cylinders\", \"displacement\", \"horsepower\", \"weight\", \"acceleration\"])\n",
    "six_mse, six_var = train_and_test([\"cylinders\", \"displacement\", \"horsepower\", \"weight\", \"acceleration\", \"model year\"])\n",
    "seven_mse, seven_var = train_and_test([\"cylinders\", \"displacement\", \"horsepower\", \"weight\", \"acceleration\",\n",
    "                                       \"model year\", \"origin\"])"
   ]
  },
  {
   "cell_type": "code",
   "execution_count": 7,
   "metadata": {
    "collapsed": false
   },
   "outputs": [
    {
     "data": {
      "image/png": "[encoded data removed]",
      "text/plain": [
       "<matplotlib.figure.Figure at 0x115d69d68>"
      ]
     },
     "metadata": {},
     "output_type": "display_data"
    }
   ],
   "source": [
    "figsize(12.5, 5)\n",
    "plt.scatter([2, 3, 4, 5, 6, 7], [two_mse, three_mse, four_mse, five_mse, six_mse, seven_mse], c = \"r\", s=  40)\n",
    "plt.scatter([2, 3, 4, 5, 6, 7], [two_var, three_var, four_var, five_var, six_var, seven_var], c = \"b\", s = 40)\n",
    "plt.legend();"
   ]
  },
  {
   "cell_type": "code",
   "execution_count": null,
   "metadata": {
    "collapsed": true
   },
   "outputs": [],
   "source": []
  }
 ],
 "metadata": {
  "kernelspec": {
   "display_name": "Python 3",
   "language": "python",
   "name": "python3"
  },
  "language_info": {
   "codemirror_mode": {
    "name": "ipython",
    "version": 3
   },
   "file_extension": ".py",
   "mimetype": "text/x-python",
   "name": "python",
   "nbconvert_exporter": "python",
   "pygments_lexer": "ipython3",
   "version": "3.5.2"
  }
 },
 "nbformat": 4,
 "nbformat_minor": 0
}
