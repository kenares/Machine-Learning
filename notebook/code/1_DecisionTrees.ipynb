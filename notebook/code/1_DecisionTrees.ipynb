{
 "cells": [
  {
   "cell_type": "markdown",
   "metadata": {},
   "source": [
    "### Decision Trees \n",
    "1. <b>ID3 algorithm</b>\n",
    "2. <b> Storing the tree</b>\n",
    "3. <b> A prettier Tree </b>\n",
    "4. <b>Automatic prediction</b>\n",
    "5. <b>Making Multiple Predictions</b>\n",
    "6. <b>Conclusion</b>"
   ]
  },
  {
   "cell_type": "code",
   "execution_count": 1,
   "metadata": {
    "collapsed": true
   },
   "outputs": [],
   "source": [
    "import json\n",
    "import matplotlib\n",
    "import warnings\n",
    "import pandas as pd\n",
    "import numpy as np\n",
    "import math\n",
    "import pickle\n",
    "from matplotlib import pyplot as plt\n",
    "from IPython.core.pylabtools import figsize\n",
    "from IPython.display import Image, display\n",
    "\n",
    "\n",
    "warnings.simplefilter(\"ignore\")\n",
    "root = r\"/Users/Kenneth-Aristide/anaconda3/bin/python_prog/ML/styles/bmh_matplotlibrc.json\"\n",
    "s = json.load(open(root))\n",
    "matplotlib.rcParams.update(s)\n",
    "% matplotlib inline"
   ]
  },
  {
   "cell_type": "code",
   "execution_count": 2,
   "metadata": {
    "collapsed": false
   },
   "outputs": [],
   "source": [
    "_headers =['age', 'workclass', 'fnlwgt', 'education', 'education_num', 'marital_status', 'occupation',\n",
    "         'relationship', 'race', 'sex', 'capital_gain', 'capital_loss', 'hours_per_week', 'native_country']\n",
    "\n",
    "income = pickle.load(open(\"/Users/Kenneth-Aristide/anaconda3/bin/python_prog/ML/data/income.pickle\", \"rb\"))"
   ]
  },
  {
   "cell_type": "markdown",
   "metadata": {},
   "source": [
    "### ID3 Algorithm\n",
    "In the last notebook, we learned about the basics of decision trees, including $entropy$ and $information$ $gain$. In this mission, we'll build on those concepts to construct a full decision tree in Python and make predictions.\n",
    "\n",
    "We will use [ID3 Algorithm](https://en.wikipedia.org/wiki/ID3_algorithm) for constructing decision trees.\n",
    "This algorithm involves recursion and an understanding of time complexity.\n",
    "In general, recursion is the process of splitting a large problem into small chunks. Recursive functions will call themselves, then combine the results to create a final result.\n",
    "\n",
    "Building trees is a perfect case for a recursive algorithm -- at each node, we'll call a recursive function, which will split the data into two branches. Each branch will lead to a node, and the function will call itself to build out the tree.\n",
    "\n",
    "def id3(data, target_name, column):\n",
    "    1. create a node for the tree\n",
    "    2. If all values of the target are attribute are 1, Return the node with label 1\n",
    "    3. If all values of the target are attribute are 0, Return the node with label 0\n",
    "    4. Using information gain, find A, the column that splits the data best\n",
    "    5. Find the median value in column A\n",
    "    6. Split A into values below or equal to the median (0) and value above the median (1)\n",
    "    7. For each possible value (0, or 1), vi, of A\n",
    "        8. add new treebranch below Root, corresponding to the rows in the data where A = vi\n",
    "        9. Let Examples(vi) be the subset of examples that have the value vi for A\n",
    "        10. Below this new branch add the subtree id3(data[A==vi], target, columns)\n",
    "    11. Return Root\n",
    "    \n",
    "We've made a minor modification to the algorithm to only make two branches from each node. This will simplify constructing the tree, and make it easier to demonstrate the principles involved.\n",
    "\n",
    "The recursive nature of the algorithm comes into play on line 10. Every node in the tree will call the id3 function, and the final tree will be the result of all of these calls."
   ]
  },
  {
   "cell_type": "code",
   "execution_count": 3,
   "metadata": {
    "collapsed": true
   },
   "outputs": [],
   "source": [
    "def compute_entropy(column):\n",
    "    \"\"\"\n",
    "    Convenience function:\n",
    "        Calculate entropy given a pandas Series, list, or numpy array\n",
    "    \"\"\"\n",
    "    counts = np.bincount(column)\n",
    "    probabilities = counts / len(column)\n",
    "    \n",
    "    entropy = 0\n",
    "    \n",
    "    for prob in probabilities:\n",
    "        if prob > 0 : \n",
    "            entropy += prob * math.log(prob, 2)\n",
    "        \n",
    "    return -entropy\n",
    "\n",
    "def compute_information_gain(data, split_name, target_name):\n",
    "    \"\"\"\n",
    "    Calculate information gain given a dataset, column to split on, and target\n",
    "    \"\"\"\n",
    "    total_entropy = compute_entropy(data[target_name])\n",
    "    \n",
    "    column = data[split_name]\n",
    "    median = column.median()\n",
    "    \n",
    "    left_split = data[column <= median]\n",
    "    right_split = data[column > median]\n",
    "    \n",
    "    to_subtract = 0\n",
    "    \n",
    "    for subset in [left_split, right_split]:\n",
    "        prob = (subset.shape[0] / data.shape[0])\n",
    "        to_subtract += prob * compute_entropy(subset[target_name])\n",
    "        \n",
    "    return total_entropy - to_subtract\n",
    "\n",
    "\n",
    "def find_best_column(data, target_name, columns):\n",
    "    \"\"\"\n",
    "    Convenience function:\n",
    "        find the optimale column for ID3 to split on\n",
    "    \"\"\"\n",
    "    information_gain = {}\n",
    "    for column in columns : \n",
    "        information_gain[column] = compute_information_gain(data, column, target_name)\n",
    "        \n",
    "    return max(information_gain, key = information_gain.get)"
   ]
  },
  {
   "cell_type": "code",
   "execution_count": 4,
   "metadata": {
    "collapsed": false
   },
   "outputs": [
    {
     "name": "stdout",
     "output_type": "stream",
     "text": [
      "[1, 1, 1]\n",
      "[0, 0, 0]\n"
     ]
    }
   ],
   "source": [
    "label_0s = []\n",
    "label_1s = []\n",
    "\n",
    "def id3(data, target, columns):\n",
    "    \"\"\"\n",
    "    Convenience function:\n",
    "        id3 algorithm, where we change step 1 and step 2 instead just store labels in a list\n",
    "        just label we bulding a new tree on the left 0 or right 1 sides\n",
    "    \"\"\"\n",
    "    \n",
    "    unique_targets = data[target].unique()\n",
    "    if len(unique_targets) == 1:\n",
    "        if 0 in unique_targets:\n",
    "            label_0s.append(0)\n",
    "        elif 1 in unique_targets:\n",
    "            label_1s.append(1)\n",
    "            \n",
    "        return\n",
    "    \n",
    "    best_column = find_best_column(data, target, columns)\n",
    "    column_median = data[best_column].median()\n",
    "    \n",
    "    left_split = data[data[best_column] <= column_median]\n",
    "    right_split = data[data[best_column] > column_median]\n",
    "    \n",
    "    # Loop through the split and call id3 recursively\n",
    "    for split in [left_split, right_split]:\n",
    "        id3(split, target, columns) \n",
    "        \n",
    "        \n",
    "\n",
    "# test\n",
    "data = pd.DataFrame([\n",
    "    [0,20,0],\n",
    "    [0,60,2],\n",
    "    [0,40,1],\n",
    "    [1,25,1],\n",
    "    [1,35,2],\n",
    "    [1,55,1]\n",
    "    ])\n",
    "# Assign column names to the data.\n",
    "data.columns = [\"high_income\", \"age\", \"marital_status\"]\n",
    "id3(data, \"high_income\", [\"age\", \"marital_status\"])\n",
    "print(label_1s), print(label_0s);"
   ]
  },
  {
   "cell_type": "markdown",
   "metadata": {},
   "source": [
    "### Storing the tree\n",
    "We can now store the entire tree instead of just the labels at the leaves. In order to do this, we'll use nested dictionaries.\n",
    "\n",
    "In order to keep track of the tree, we'll need to make some modifications to id3. The first is that we'll be changing the definition to pass in the tree dictionary\n",
    "\n",
    "def id3(data, target_name, column):\n",
    "    1. create a node for the tree\n",
    "    2. Number of node\n",
    "    3. If all values of the target are attribute are 1, Return the node with label 1\n",
    "    4. If all values of the target are attribute are 0, Return the node with label 0\n",
    "    5. Using information gain, find A, the column that splits the data best\n",
    "    6. Find the median value in column A\n",
    "    7. Assign the column and median keys in tree\n",
    "    8. Split A into values below or equal to the median (0) and value above the median (1)\n",
    "    9. For each possible value (0, or 1), vi, of A\n",
    "        10. add new treebranch below Root, corresponding to the rows in the data where A = vi\n",
    "        11. Let Examples(vi) be the subset of examples that have the value vi for A\n",
    "        12. Create a new key with the name corresponding to the side of the split (0=left, 1=right).  The value of               this key should be an empty dictionary\n",
    "        13. Below this new branch add the subtree id3(data[A==vi], target, columns, tree[split_side])\n",
    "    14. Return Root\n",
    "    \n",
    "    \n",
    "The main difference is that we're now passing the tree dictionary into our id3 function, and setting some keys on it. One complexity is in how we're creating the nested dictionary. For the left split, we're adding a key to the tree dictionary that looks like: tree[\"left\"] = {}. For the right side, we're doing tree[\"right\"] = {}. After we add this key, we're able to pass the newly created dictionary into the recursive call to id3. This new dictionary will be the dictionary for that specific node, but will be tied back to the parent dictionary (because it's a key of the original dictionary).\n",
    "\n",
    "This will keep building up the nested dictionary, and we'll be able to access the whole thing using the variable tree we define before the function. Think of it like each recursive call building a piece of the tree, which we can access after all the functions are done."
   ]
  },
  {
   "cell_type": "code",
   "execution_count": 5,
   "metadata": {
    "collapsed": false
   },
   "outputs": [],
   "source": [
    "# create a dictionaryto hold the tree. as label_s before this has to be outside the function so we can accessit later\n",
    "tree = {}\n",
    "\n",
    "# This list will let us number the nodes.  It has to be a list so we can access it inside the function.\n",
    "nodes = []\n",
    "\n",
    "def id3(data, target, columns, tree):\n",
    "    \"\"\"\n",
    "    Convenience function : \n",
    "        id3 algorithm\n",
    "    \"\"\"\n",
    "    unique_targets  = data[target].unique()\n",
    "    \n",
    "    # Assign the number of key to the node list\n",
    "    nodes.append(len(nodes) + 1)\n",
    "    tree[\"number\"] = nodes[-1]\n",
    "    \n",
    "    if len(unique_targets) == 1:\n",
    "        if 0 in unique_targets:\n",
    "            tree[\"label\"] = 0\n",
    "        elif 1 in unique_targets:\n",
    "            tree[\"label\"] = 1\n",
    "        \n",
    "        return\n",
    "    best_column = find_best_column(data, target, columns)\n",
    "    column_median = data[best_column].median()\n",
    "    \n",
    "    tree[\"column\"] = best_column\n",
    "    tree[\"median\"] = column_median\n",
    "    left_split = data[data[best_column] <= column_median]\n",
    "    right_split = data[data[best_column] > column_median]\n",
    "    \n",
    "    split_dict = [[\"left\", left_split], [\"right\", right_split]]\n",
    "    \n",
    "    for name, split in split_dict:\n",
    "        tree[name] = {}\n",
    "        id3(split, target, columns, tree[name])\n",
    "        \n",
    "# test\n",
    "id3(data, \"high_income\", [\"age\", \"marital_status\"], tree)"
   ]
  },
  {
   "cell_type": "code",
   "execution_count": 6,
   "metadata": {
    "collapsed": false
   },
   "outputs": [
    {
     "data": {
      "text/plain": [
       "{'column': 'age',\n",
       " 'left': {'column': 'age',\n",
       "  'left': {'column': 'age',\n",
       "   'left': {'label': 0, 'number': 4},\n",
       "   'median': 22.5,\n",
       "   'number': 3,\n",
       "   'right': {'label': 1, 'number': 5}},\n",
       "  'median': 25.0,\n",
       "  'number': 2,\n",
       "  'right': {'label': 1, 'number': 6}},\n",
       " 'median': 37.5,\n",
       " 'number': 1,\n",
       " 'right': {'column': 'age',\n",
       "  'left': {'column': 'age',\n",
       "   'left': {'label': 0, 'number': 9},\n",
       "   'median': 47.5,\n",
       "   'number': 8,\n",
       "   'right': {'label': 1, 'number': 10}},\n",
       "  'median': 55.0,\n",
       "  'number': 7,\n",
       "  'right': {'label': 0, 'number': 11}}}"
      ]
     },
     "execution_count": 6,
     "metadata": {},
     "output_type": "execute_result"
    }
   ],
   "source": [
    "tree"
   ]
  },
  {
   "cell_type": "markdown",
   "metadata": {},
   "source": [
    "### A Prettier Tree\n",
    "The tree dictionary shows all the relevant information, but it doesn't look very good. We can fix this by printing out our dictionary in a nicer way.\n",
    "\n",
    "In order to do this, we'll need to recursively iterate through our tree dictionary. If we find a dictionary with a label key, then we know it's a leaf, so we print out the label of the leaf. Otherwise, we loop through the left and right keys of the tree, and recursively call the same function. We'll also need to keep track of a depth variable so we can indent the nodes properly to indicate which nodes come before others. When we print out anything, we'll take the depth variable into account by adding space beforehand."
   ]
  },
  {
   "cell_type": "code",
   "execution_count": 7,
   "metadata": {
    "collapsed": false
   },
   "outputs": [
    {
     "name": "stdout",
     "output_type": "stream",
     "text": [
      "age > 37.5\n",
      " age > 25.0\n",
      "  age > 22.5\n",
      "   Leaf: Label 0\n",
      "   Leaf: Label 1\n",
      "  Leaf: Label 1\n",
      " age > 55.0\n",
      "  age > 47.5\n",
      "   Leaf: Label 0\n",
      "   Leaf: Label 1\n",
      "  Leaf: Label 0\n"
     ]
    }
   ],
   "source": [
    "def print_with_depth(string, depth):\n",
    "    \"\"\"\n",
    "    Convenience function:\n",
    "        \n",
    "    \"\"\"\n",
    "    # add space before the string\n",
    "    prefix = \" \" * depth\n",
    "    print(\"{0}{1}\".format(prefix, string))\n",
    "    \n",
    "def print_node(tree, depth):\n",
    "    \"\"\"\n",
    "    Convenience function:\n",
    "        \n",
    "    \"\"\"\n",
    "    if \"label\" in tree:\n",
    "        print_with_depth(\"Leaf: Label {0}\".format(tree[\"label\"]), depth)\n",
    "        # This is critical -- without it, you'll get infinite recursion.\n",
    "        return\n",
    "    print_with_depth(\"{0} > {1}\".format(tree[\"column\"], tree[\"median\"]), depth)\n",
    "    \n",
    "    branches = [tree[\"left\"], tree[\"right\"]]\n",
    "    for branch in branches : \n",
    "        print_node(branch, depth + 1)\n",
    "        \n",
    "print_node(tree, 0)"
   ]
  },
  {
   "cell_type": "markdown",
   "metadata": {},
   "source": [
    "The left branch is printed first, then the right branch. Each node prints the criteria that it is split based on. It's easy to tell how to predict a new value by looking at this tree.\n",
    "\n",
    "Let's say we wanted to predict the following row:\n",
    "age = 50, marital_status = 1\n",
    "\n",
    "\n",
    "We'd first split on age > 37.5, and go to the right. Then, we'd split on age > 55.0, and go to the left. Then, we'd split on age > 47.5, and go to the right. We'd end up predicting a 1 for high_income.\n",
    "\n",
    "It's simple to make predictions with such a small tree, but what if we want to use the whole income dataframe? We wouldn't be able to make predictions by eye, and would want an automated way to do so."
   ]
  },
  {
   "cell_type": "code",
   "execution_count": 10,
   "metadata": {
    "collapsed": false
   },
   "outputs": [
    {
     "name": "stdout",
     "output_type": "stream",
     "text": [
      "1\n"
     ]
    }
   ],
   "source": [
    "def predict(tree, row):\n",
    "    \"\"\"\n",
    "    Convenience function:\n",
    "        predict from row\n",
    "    \"\"\"\n",
    "    if \"label\" in tree:\n",
    "        return tree[\"label\"]\n",
    "    \n",
    "    column = tree[\"column\"]\n",
    "    median = tree[\"median\"]\n",
    "    \n",
    "    if row[column] <= median:\n",
    "        return predict(tree[\"left\"], row)\n",
    "    else :\n",
    "        return predict(tree[\"right\"], row)\n",
    "    \n",
    "print(predict(tree, data.iloc[4]))"
   ]
  },
  {
   "cell_type": "code",
   "execution_count": 14,
   "metadata": {
    "collapsed": false
   },
   "outputs": [
    {
     "data": {
      "text/plain": [
       "0    0\n",
       "1    0\n",
       "2    0\n",
       "3    0\n",
       "4    1\n",
       "5    0\n",
       "dtype: int64"
      ]
     },
     "execution_count": 14,
     "metadata": {},
     "output_type": "execute_result"
    }
   ],
   "source": [
    "new_data = pd.DataFrame([\n",
    "    [40,0],\n",
    "    [20,2],\n",
    "    [80,1],\n",
    "    [15,1],\n",
    "    [27,2],\n",
    "    [38,1]\n",
    "    ])\n",
    "# Assign column names to the data.\n",
    "new_data.columns = [\"age\", \"marital_status\"]\n",
    "\n",
    "def batch_predict(tree, df):\n",
    "    \"\"\"\n",
    "    Convenience function:\n",
    "        make multiple prediction\n",
    "    \"\"\"\n",
    "    return df.apply(lambda df : predict(tree, df), axis = 1)\n",
    "\n",
    "predictions = batch_predict(tree, new_data)\n",
    "predictions"
   ]
  },
  {
   "cell_type": "markdown",
   "metadata": {},
   "source": [
    "### Conclusion \n",
    "In this notebook, we learned how to create a full decision tree model, print the results, and make predictions using the tree. We applied a modified version of the ID3 algorithm."
   ]
  }
 ],
 "metadata": {
  "kernelspec": {
   "display_name": "Python 3",
   "language": "python",
   "name": "python3"
  },
  "language_info": {
   "codemirror_mode": {
    "name": "ipython",
    "version": 3
   },
   "file_extension": ".py",
   "mimetype": "text/x-python",
   "name": "python",
   "nbconvert_exporter": "python",
   "pygments_lexer": "ipython3",
   "version": "3.5.2"
  }
 },
 "nbformat": 4,
 "nbformat_minor": 0
}
