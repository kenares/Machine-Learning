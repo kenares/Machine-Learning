{
 "cells": [
  {
   "cell_type": "markdown",
   "metadata": {},
   "source": [
    "### Multiclass Classification with Logistic Regression\n",
    "\n",
    "1. <b>Good data management</b>\n",
    "2. <b> One versus all classification </b>\n",
    "3. <b> Model testing </b>\n",
    "4. <b> Prediction </b>\n",
    "5. <b> accuracy </b>"
   ]
  },
  {
   "cell_type": "code",
   "execution_count": 1,
   "metadata": {
    "collapsed": false
   },
   "outputs": [],
   "source": [
    "import json\n",
    "import matplotlib\n",
    "import warnings\n",
    "import pandas as pd\n",
    "import numpy as np\n",
    "import re \n",
    "from IPython.core.pylabtools import figsize\n",
    "from sklearn.linear_model import LogisticRegression\n",
    "\n",
    "root = r\"/Users/Kenneth-Aristide/anaconda3/bin/python_prog/ML/styles/bmh_matplotlibrc.json\"\n",
    "s = json.load(open(root))\n",
    "warnings.simplefilter(\"ignore\")\n",
    "% matplotlib inline"
   ]
  },
  {
   "cell_type": "markdown",
   "metadata": {},
   "source": [
    "The dataset we will be working with, contains information on various cars. The task is to predict the origin of a vehicle,\n",
    "$North-America$, $Europe$, or $Asia$ base on some technical parameters."
   ]
  },
  {
   "cell_type": "code",
   "execution_count": 2,
   "metadata": {
    "collapsed": false
   },
   "outputs": [
    {
     "data": {
      "text/html": [
       "<div>\n",
       "<table border=\"1\" class=\"dataframe\">\n",
       "  <thead>\n",
       "    <tr style=\"text-align: right;\">\n",
       "      <th></th>\n",
       "      <th>mpg</th>\n",
       "      <th>cylindres</th>\n",
       "      <th>displacement</th>\n",
       "      <th>horsepower</th>\n",
       "      <th>weight</th>\n",
       "      <th>acceleration</th>\n",
       "      <th>year</th>\n",
       "      <th>origin</th>\n",
       "    </tr>\n",
       "  </thead>\n",
       "  <tbody>\n",
       "    <tr>\n",
       "      <th>393</th>\n",
       "      <td>27.0</td>\n",
       "      <td>4</td>\n",
       "      <td>140.0</td>\n",
       "      <td>86.0</td>\n",
       "      <td>2790.</td>\n",
       "      <td>15.6</td>\n",
       "      <td>82</td>\n",
       "      <td>1</td>\n",
       "    </tr>\n",
       "    <tr>\n",
       "      <th>394</th>\n",
       "      <td>44.0</td>\n",
       "      <td>4</td>\n",
       "      <td>97.0</td>\n",
       "      <td>52.0</td>\n",
       "      <td>2130.</td>\n",
       "      <td>24.6</td>\n",
       "      <td>82</td>\n",
       "      <td>2</td>\n",
       "    </tr>\n",
       "    <tr>\n",
       "      <th>395</th>\n",
       "      <td>32.0</td>\n",
       "      <td>4</td>\n",
       "      <td>135.0</td>\n",
       "      <td>84.0</td>\n",
       "      <td>2295.</td>\n",
       "      <td>11.6</td>\n",
       "      <td>82</td>\n",
       "      <td>1</td>\n",
       "    </tr>\n",
       "    <tr>\n",
       "      <th>396</th>\n",
       "      <td>28.0</td>\n",
       "      <td>4</td>\n",
       "      <td>120.0</td>\n",
       "      <td>79.0</td>\n",
       "      <td>2625.</td>\n",
       "      <td>18.6</td>\n",
       "      <td>82</td>\n",
       "      <td>1</td>\n",
       "    </tr>\n",
       "    <tr>\n",
       "      <th>397</th>\n",
       "      <td>31.0</td>\n",
       "      <td>4</td>\n",
       "      <td>119.0</td>\n",
       "      <td>82.0</td>\n",
       "      <td>2720.</td>\n",
       "      <td>19.4</td>\n",
       "      <td>82</td>\n",
       "      <td>1</td>\n",
       "    </tr>\n",
       "  </tbody>\n",
       "</table>\n",
       "</div>"
      ],
      "text/plain": [
       "      mpg  cylindres  displacement  horsepower weight  acceleration  year  \\\n",
       "393  27.0          4         140.0        86.0  2790.          15.6    82   \n",
       "394  44.0          4          97.0        52.0  2130.          24.6    82   \n",
       "395  32.0          4         135.0        84.0  2295.          11.6    82   \n",
       "396  28.0          4         120.0        79.0  2625.          18.6    82   \n",
       "397  31.0          4         119.0        82.0  2720.          19.4    82   \n",
       "\n",
       "     origin  \n",
       "393       1  \n",
       "394       2  \n",
       "395       1  \n",
       "396       1  \n",
       "397       1  "
      ]
     },
     "execution_count": 2,
     "metadata": {},
     "output_type": "execute_result"
    }
   ],
   "source": [
    "# import the data\n",
    "headers = [\"mpg\", \"cylindres\", \"displacement\", \"horsepower\", \"weight\", \"acceleration\",\n",
    "                            \"year\", \"origin\", \"name\"]\n",
    "\n",
    "\n",
    "def handle(s):\n",
    "    \"\"\"\n",
    "    convenience function :\n",
    "        find and process the useful structure\n",
    "    \"\"\"\n",
    "    if s == '?':\n",
    "        return None\n",
    "    elif re.match(r'^\\d+\\.\\d+$', s):\n",
    "        return float(s)\n",
    "    elif re.match(r'^\\d+$', s):\n",
    "        return int(s, 10)\n",
    "    else:\n",
    "        return s.strip().strip('\"')\n",
    "\n",
    "    \n",
    "with open('/Users/Kenneth-Aristide/anaconda3/bin/python_prog/ML/data/auto.csv') as fp:\n",
    "    data = [\n",
    "        tuple(map(handle, row))\n",
    "        for row in (line.split(maxsplit=8) for line in fp)]\n",
    "    \n",
    "# read into pandas DataFrame\n",
    "data = pd.DataFrame(data, columns = headers)\n",
    "data = data.drop(\"name\", axis = 1)\n",
    "\n",
    "# clean the data\n",
    "data[\"horsepower\"] = data[\"horsepower\"].fillna(data[\"horsepower\"].median())\n",
    "data.tail()"
   ]
  },
  {
   "cell_type": "code",
   "execution_count": 3,
   "metadata": {
    "collapsed": false
   },
   "outputs": [
    {
     "data": {
      "text/html": [
       "<div>\n",
       "<table border=\"1\" class=\"dataframe\">\n",
       "  <thead>\n",
       "    <tr style=\"text-align: right;\">\n",
       "      <th></th>\n",
       "      <th>mpg</th>\n",
       "      <th>cylindres</th>\n",
       "      <th>displacement</th>\n",
       "      <th>horsepower</th>\n",
       "      <th>weight</th>\n",
       "      <th>acceleration</th>\n",
       "      <th>year</th>\n",
       "      <th>origin</th>\n",
       "      <th>cycl_3</th>\n",
       "      <th>cycl_4</th>\n",
       "      <th>...</th>\n",
       "      <th>year_73</th>\n",
       "      <th>year_74</th>\n",
       "      <th>year_75</th>\n",
       "      <th>year_76</th>\n",
       "      <th>year_77</th>\n",
       "      <th>year_78</th>\n",
       "      <th>year_79</th>\n",
       "      <th>year_80</th>\n",
       "      <th>year_81</th>\n",
       "      <th>year_82</th>\n",
       "    </tr>\n",
       "  </thead>\n",
       "  <tbody>\n",
       "    <tr>\n",
       "      <th>0</th>\n",
       "      <td>18.0</td>\n",
       "      <td>8</td>\n",
       "      <td>307.0</td>\n",
       "      <td>130.0</td>\n",
       "      <td>3504.</td>\n",
       "      <td>12.0</td>\n",
       "      <td>70</td>\n",
       "      <td>1</td>\n",
       "      <td>0.0</td>\n",
       "      <td>0.0</td>\n",
       "      <td>...</td>\n",
       "      <td>0.0</td>\n",
       "      <td>0.0</td>\n",
       "      <td>0.0</td>\n",
       "      <td>0.0</td>\n",
       "      <td>0.0</td>\n",
       "      <td>0.0</td>\n",
       "      <td>0.0</td>\n",
       "      <td>0.0</td>\n",
       "      <td>0.0</td>\n",
       "      <td>0.0</td>\n",
       "    </tr>\n",
       "    <tr>\n",
       "      <th>1</th>\n",
       "      <td>15.0</td>\n",
       "      <td>8</td>\n",
       "      <td>350.0</td>\n",
       "      <td>165.0</td>\n",
       "      <td>3693.</td>\n",
       "      <td>11.5</td>\n",
       "      <td>70</td>\n",
       "      <td>1</td>\n",
       "      <td>0.0</td>\n",
       "      <td>0.0</td>\n",
       "      <td>...</td>\n",
       "      <td>0.0</td>\n",
       "      <td>0.0</td>\n",
       "      <td>0.0</td>\n",
       "      <td>0.0</td>\n",
       "      <td>0.0</td>\n",
       "      <td>0.0</td>\n",
       "      <td>0.0</td>\n",
       "      <td>0.0</td>\n",
       "      <td>0.0</td>\n",
       "      <td>0.0</td>\n",
       "    </tr>\n",
       "    <tr>\n",
       "      <th>2</th>\n",
       "      <td>18.0</td>\n",
       "      <td>8</td>\n",
       "      <td>318.0</td>\n",
       "      <td>150.0</td>\n",
       "      <td>3436.</td>\n",
       "      <td>11.0</td>\n",
       "      <td>70</td>\n",
       "      <td>1</td>\n",
       "      <td>0.0</td>\n",
       "      <td>0.0</td>\n",
       "      <td>...</td>\n",
       "      <td>0.0</td>\n",
       "      <td>0.0</td>\n",
       "      <td>0.0</td>\n",
       "      <td>0.0</td>\n",
       "      <td>0.0</td>\n",
       "      <td>0.0</td>\n",
       "      <td>0.0</td>\n",
       "      <td>0.0</td>\n",
       "      <td>0.0</td>\n",
       "      <td>0.0</td>\n",
       "    </tr>\n",
       "    <tr>\n",
       "      <th>3</th>\n",
       "      <td>16.0</td>\n",
       "      <td>8</td>\n",
       "      <td>304.0</td>\n",
       "      <td>150.0</td>\n",
       "      <td>3433.</td>\n",
       "      <td>12.0</td>\n",
       "      <td>70</td>\n",
       "      <td>1</td>\n",
       "      <td>0.0</td>\n",
       "      <td>0.0</td>\n",
       "      <td>...</td>\n",
       "      <td>0.0</td>\n",
       "      <td>0.0</td>\n",
       "      <td>0.0</td>\n",
       "      <td>0.0</td>\n",
       "      <td>0.0</td>\n",
       "      <td>0.0</td>\n",
       "      <td>0.0</td>\n",
       "      <td>0.0</td>\n",
       "      <td>0.0</td>\n",
       "      <td>0.0</td>\n",
       "    </tr>\n",
       "    <tr>\n",
       "      <th>4</th>\n",
       "      <td>17.0</td>\n",
       "      <td>8</td>\n",
       "      <td>302.0</td>\n",
       "      <td>140.0</td>\n",
       "      <td>3449.</td>\n",
       "      <td>10.5</td>\n",
       "      <td>70</td>\n",
       "      <td>1</td>\n",
       "      <td>0.0</td>\n",
       "      <td>0.0</td>\n",
       "      <td>...</td>\n",
       "      <td>0.0</td>\n",
       "      <td>0.0</td>\n",
       "      <td>0.0</td>\n",
       "      <td>0.0</td>\n",
       "      <td>0.0</td>\n",
       "      <td>0.0</td>\n",
       "      <td>0.0</td>\n",
       "      <td>0.0</td>\n",
       "      <td>0.0</td>\n",
       "      <td>0.0</td>\n",
       "    </tr>\n",
       "  </tbody>\n",
       "</table>\n",
       "<p>5 rows × 26 columns</p>\n",
       "</div>"
      ],
      "text/plain": [
       "    mpg  cylindres  displacement  horsepower weight  acceleration  year  \\\n",
       "0  18.0          8         307.0       130.0  3504.          12.0    70   \n",
       "1  15.0          8         350.0       165.0  3693.          11.5    70   \n",
       "2  18.0          8         318.0       150.0  3436.          11.0    70   \n",
       "3  16.0          8         304.0       150.0  3433.          12.0    70   \n",
       "4  17.0          8         302.0       140.0  3449.          10.5    70   \n",
       "\n",
       "   origin  cycl_3  cycl_4   ...     year_73  year_74  year_75  year_76  \\\n",
       "0       1     0.0     0.0   ...         0.0      0.0      0.0      0.0   \n",
       "1       1     0.0     0.0   ...         0.0      0.0      0.0      0.0   \n",
       "2       1     0.0     0.0   ...         0.0      0.0      0.0      0.0   \n",
       "3       1     0.0     0.0   ...         0.0      0.0      0.0      0.0   \n",
       "4       1     0.0     0.0   ...         0.0      0.0      0.0      0.0   \n",
       "\n",
       "   year_77  year_78  year_79  year_80  year_81  year_82  \n",
       "0      0.0      0.0      0.0      0.0      0.0      0.0  \n",
       "1      0.0      0.0      0.0      0.0      0.0      0.0  \n",
       "2      0.0      0.0      0.0      0.0      0.0      0.0  \n",
       "3      0.0      0.0      0.0      0.0      0.0      0.0  \n",
       "4      0.0      0.0      0.0      0.0      0.0      0.0  \n",
       "\n",
       "[5 rows x 26 columns]"
      ]
     },
     "execution_count": 3,
     "metadata": {},
     "output_type": "execute_result"
    }
   ],
   "source": [
    "# We have 5 different categories of cylindres, we would split the column into five differents binary categories:\n",
    "dummy_cylindres = pd.get_dummies(data[\"cylindres\"], prefix = \"cycl\")\n",
    "dummy_year = pd.get_dummies(data[\"year\"], prefix = \"year\")\n",
    "\n",
    "car_data = pd.concat([data, dummy_cylindres, dummy_year], axis = 1)\n",
    "car_data.head()"
   ]
  },
  {
   "cell_type": "markdown",
   "metadata": {},
   "source": [
    "### One versus all classification\n",
    "It's a technique where we chosse a single category as the positive case and group the rest of the category as the false case.\n",
    "We're essentially splitting the into multiple binary classification problems.<br>\n",
    "For each observation, the model will then output the $probabilities$ of belonging to a each category"
   ]
  },
  {
   "cell_type": "code",
   "execution_count": 4,
   "metadata": {
    "collapsed": false
   },
   "outputs": [],
   "source": [
    "# first let's split into train and test\n",
    "np.random.seed(0)\n",
    "shuffled_index = np.random.permutation(car_data.index)\n",
    "shuffled_car_data = car_data.loc[shuffled_index]\n",
    "\n",
    "# holdout cross_validation\n",
    "split_line = int(car_data.shape[0] * .70)\n",
    "train = shuffled_car_data[:split_line]\n",
    "test = shuffled_car_data[split_line:]\n",
    "\n",
    "# useful container\n",
    "unique_origin = car_data.origin.unique()\n",
    "unique_origin.sort()"
   ]
  },
  {
   "cell_type": "markdown",
   "metadata": {},
   "source": [
    "<b>In the $one-vs-all$ approach we're essentially converting an $n class$ (n = 3) classification problem into n binary classifiaction problems.</b> For our case we would need to train 3 models:\n",
    "\n",
    "    1. A model where all cars built in North America are considered Positive (1) and those built in Europe and Asia          are considered Negative (0).\n",
    "    2. A model where all cars built in Europe are considered Positive (1) and those built in North America and Asia          are considered Negative (0).\n",
    "    3. A model where all cars built in Asia are labeled Positive (1) and those built in North America and Europe are          considered Negative (0).\n",
    "    \n",
    "Each of these models is a binary classification model that will return a probability between 0 and 1. When we apply this model on new data, a probability value will be returned from each model (3 total). For each observation, we choose the label corresponding to the model that predicted the highest probability.\n"
   ]
  },
  {
   "cell_type": "code",
   "execution_count": 7,
   "metadata": {
    "collapsed": false
   },
   "outputs": [],
   "source": [
    "# Let's train using just cylindres and year columns as features\n",
    "\n",
    "models = {}\n",
    "\n",
    "features = [c for c in train.columns if c.startswith(\"cyl\") or c.startswith(\"year\")]\n",
    "\n",
    "for origin in unique_origin:\n",
    "    model = LogisticRegression()\n",
    "    \n",
    "    X_train = train[features]\n",
    "    y_train = train[\"origin\"] == origin\n",
    "    \n",
    "    model.fit(X_train, y_train)\n",
    "    \n",
    "    models[origin] = model"
   ]
  },
  {
   "cell_type": "markdown",
   "metadata": {},
   "source": [
    "### Testing the models : \n",
    "now we have a model for each category, we can run our test dataset through the models and evaluate how well they performed."
   ]
  },
  {
   "cell_type": "code",
   "execution_count": 8,
   "metadata": {
    "collapsed": false
   },
   "outputs": [],
   "source": [
    "test_results = pd.DataFrame(columns = unique_origin)\n",
    "\n",
    "for k, v in models.items():\n",
    "    test_results[k] = (v.predict_proba(test[features]))[:, 1]\n",
    "    "
   ]
  },
  {
   "cell_type": "markdown",
   "metadata": {},
   "source": [
    "While each column in our dataframe $testing_results$ represents an $origin$ we just need to choose the one with <b>the largest probability</b>. We can use the Dataframe method $.idxmax()$ to return a Series where each value corresponds to the column or where the maximum value occurs for that observation. We need to make sure to set the axis paramater to 1 since we want to calculate the maximum value across columns. Since each column maps directly to an origin the resulting Series will be the classification from our model."
   ]
  },
  {
   "cell_type": "code",
   "execution_count": 9,
   "metadata": {
    "collapsed": false
   },
   "outputs": [],
   "source": [
    "predicted_origins = test_results.idxmax(axis = 1)"
   ]
  },
  {
   "cell_type": "code",
   "execution_count": 10,
   "metadata": {
    "collapsed": false
   },
   "outputs": [
    {
     "name": "stdout",
     "output_type": "stream",
     "text": [
      "0.6166666666666667\n"
     ]
    }
   ],
   "source": [
    "accuracy = len(predicted_origins[predicted_origins == test.origin])/ len(test.origin)\n",
    "print(accuracy)"
   ]
  }
 ],
 "metadata": {
  "kernelspec": {
   "display_name": "Python 3",
   "language": "python",
   "name": "python3"
  },
  "language_info": {
   "codemirror_mode": {
    "name": "ipython",
    "version": 3
   },
   "file_extension": ".py",
   "mimetype": "text/x-python",
   "name": "python",
   "nbconvert_exporter": "python",
   "pygments_lexer": "ipython3",
   "version": "3.5.2"
  }
 },
 "nbformat": 4,
 "nbformat_minor": 0
}
