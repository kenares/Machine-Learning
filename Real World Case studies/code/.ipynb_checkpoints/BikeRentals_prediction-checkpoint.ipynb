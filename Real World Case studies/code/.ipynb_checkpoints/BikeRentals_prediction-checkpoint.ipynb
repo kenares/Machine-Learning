{
 "cells": [
  {
   "cell_type": "markdown",
   "metadata": {},
   "source": [
    "In many American cities, there are communal bicycle sharing stations where you can rent bicycles by the hour or by the day. Washington, D.C. is one of these cities, and has detailed data available about how many bicycles were rented by hour and by day.\n",
    "\n",
    "Here are explanations of the <b>relevant</b> columns:\n",
    "\n",
    "<b><i>instant</i></b> -- a unique sequential id number for each row.<br>\n",
    "<b><i>dteday</i></b> -- the date the rentals occurred on.<br>\n",
    "<b><i>season</i></b> -- the season the rentals occurred in.<br>\n",
    "<b><i>yr</i></b> -- the year the rentals occurred in.<br>\n",
    "<b><i>mnth </i></b>-- the month the rentals occurred in.<br>\n",
    "<b><i>hr</i></b> -- the hour the rentals occurred in.<br>\n",
    "<b><i>holiday</i></b> -- whether or not the day was a holiday.<br>\n",
    "<b><i>weekday</i></b>-- whether or not the day was a weekday.<br>\n",
    "<b><i>workingday</i></b> -- whether or not the day was a working day.<br>\n",
    "<b><i>weathersit </i></b>-- the weather situation (categorical variable).<br>\n",
    "<b><i>temp</i></b> -- the temperature on a 0-1 scale.<br>\n",
    "<b><i>atemp</i></b> -- the adjusted temperature.<br>\n",
    "<b><i>hum </i></b>-- the humidity on a 0-1 scale.<br>\n",
    "<b><i>windspeed</i></b> -- the wind speed on a 0-1 scale.<br>\n",
    "<b><i>casual</i></b> -- the number of casual riders (people who hadn't previously signed up with the bikesharing program) that rented bikes.<br>\n",
    "<b><i>registered</i></b> -- the number of registered riders (people who signed up previously) that rented bikes.<br>\n",
    "<b><i>cnt </i></b>-- the total number of bikes rented (casual + registered).<br>\n",
    "\n",
    "In this project, we'll try to <b>predict the total number of bikes rented in a given hour</b>. we'll predict the cnt column using all the other columns, except casual and registered. To do this, we'll create a few different machine learning models and evaluate their performance.\n",
    "\n",
    "\n",
    "### Syllabus : \n",
    "    1. Data analysis\n",
    "    2. Calculating features\n",
    "    3. Train/Test split\n",
    "    4. Applying a linear regression"
   ]
  },
  {
   "cell_type": "code",
   "execution_count": 1,
   "metadata": {
    "collapsed": true
   },
   "outputs": [],
   "source": [
    "import json\n",
    "import matplotlib\n",
    "import numpy as np\n",
    "import pandas as pd\n",
    "import seaborn as sns\n",
    "import math\n",
    "import warnings\n",
    "from useful import useful\n",
    "from IPython.core.pylabtools import figsize\n",
    "from matplotlib import pyplot as plt\n",
    "from sklearn.linear_model import LinearRegression\n",
    "from sklearn.metrics import mean_squared_error\n",
    "\n",
    "warnings.simplefilter('ignore')\n",
    "root = r'/Users/Kenneth-Aristide/anaconda3/bin/python_prog/ML_Training/styles/bmh_matplotlibrc.json'\n",
    "s = json.load(open(root))\n",
    "matplotlib.rcParams.update(s)\n",
    "%matplotlib inline"
   ]
  },
  {
   "cell_type": "code",
   "execution_count": 2,
   "metadata": {
    "collapsed": false
   },
   "outputs": [
    {
     "data": {
      "text/html": [
       "<div>\n",
       "<table border=\"1\" class=\"dataframe\">\n",
       "  <thead>\n",
       "    <tr style=\"text-align: right;\">\n",
       "      <th></th>\n",
       "      <th>instant</th>\n",
       "      <th>dteday</th>\n",
       "      <th>season</th>\n",
       "      <th>yr</th>\n",
       "      <th>mnth</th>\n",
       "      <th>hr</th>\n",
       "      <th>holiday</th>\n",
       "      <th>weekday</th>\n",
       "      <th>workingday</th>\n",
       "      <th>weathersit</th>\n",
       "      <th>temp</th>\n",
       "      <th>atemp</th>\n",
       "      <th>hum</th>\n",
       "      <th>windspeed</th>\n",
       "      <th>casual</th>\n",
       "      <th>registered</th>\n",
       "      <th>cnt</th>\n",
       "    </tr>\n",
       "  </thead>\n",
       "  <tbody>\n",
       "    <tr>\n",
       "      <th>17377</th>\n",
       "      <td>17378</td>\n",
       "      <td>2012-12-31</td>\n",
       "      <td>1</td>\n",
       "      <td>1</td>\n",
       "      <td>12</td>\n",
       "      <td>22</td>\n",
       "      <td>0</td>\n",
       "      <td>1</td>\n",
       "      <td>1</td>\n",
       "      <td>1</td>\n",
       "      <td>0.26</td>\n",
       "      <td>0.2727</td>\n",
       "      <td>0.56</td>\n",
       "      <td>0.1343</td>\n",
       "      <td>13</td>\n",
       "      <td>48</td>\n",
       "      <td>61</td>\n",
       "    </tr>\n",
       "    <tr>\n",
       "      <th>17378</th>\n",
       "      <td>17379</td>\n",
       "      <td>2012-12-31</td>\n",
       "      <td>1</td>\n",
       "      <td>1</td>\n",
       "      <td>12</td>\n",
       "      <td>23</td>\n",
       "      <td>0</td>\n",
       "      <td>1</td>\n",
       "      <td>1</td>\n",
       "      <td>1</td>\n",
       "      <td>0.26</td>\n",
       "      <td>0.2727</td>\n",
       "      <td>0.65</td>\n",
       "      <td>0.1343</td>\n",
       "      <td>12</td>\n",
       "      <td>37</td>\n",
       "      <td>49</td>\n",
       "    </tr>\n",
       "  </tbody>\n",
       "</table>\n",
       "</div>"
      ],
      "text/plain": [
       "       instant      dteday  season  yr  mnth  hr  holiday  weekday  \\\n",
       "17377    17378  2012-12-31       1   1    12  22        0        1   \n",
       "17378    17379  2012-12-31       1   1    12  23        0        1   \n",
       "\n",
       "       workingday  weathersit  temp   atemp   hum  windspeed  casual  \\\n",
       "17377           1           1  0.26  0.2727  0.56     0.1343      13   \n",
       "17378           1           1  0.26  0.2727  0.65     0.1343      12   \n",
       "\n",
       "       registered  cnt  \n",
       "17377          48   61  \n",
       "17378          37   49  "
      ]
     },
     "execution_count": 2,
     "metadata": {},
     "output_type": "execute_result"
    }
   ],
   "source": [
    "bike = pd.read_csv(\"/Users/Kenneth-Aristide/anaconda3/bin/python_prog/ML_Training/data/hour.csv\")\n",
    "int_features = bike.columns[2:16]\n",
    "bike.tail(2)"
   ]
  },
  {
   "cell_type": "code",
   "execution_count": 3,
   "metadata": {
    "collapsed": false
   },
   "outputs": [
    {
     "data": {
      "image/png": "[encoded data removed]",
      "text/plain": [
       "<matplotlib.figure.Figure at 0x11a5b7c50>"
      ]
     },
     "metadata": {},
     "output_type": "display_data"
    }
   ],
   "source": [
    "figsize(12.5, 12)\n",
    "\n",
    "ax = plt.subplot(311)\n",
    "plt.hist(bike.cnt, bins = 300)\n",
    "plt.xlim(1, 1000)\n",
    "plt.xlabel('Bike rented count')\n",
    "plt.ylabel('Count');\n",
    "\n",
    "ax = plt.subplot(312)\n",
    "plt.scatter(bike.hr, bike.cnt)\n",
    "plt.xlim(1, 25)\n",
    "plt.ylim(0, 1100)\n",
    "plt.xlabel('hour')\n",
    "plt.ylabel('Bike rented count');"
   ]
  },
  {
   "cell_type": "markdown",
   "metadata": {},
   "source": [
    "### Find the most correlated predictor\n",
    "1. we can use the <b>corr</b> or <b> np.corr_coef</b> to studies th correlation as below\n",
    "2. we can use the <b>ID3 algorithm information_gain</b> we seen before to find the best predictors"
   ]
  },
  {
   "cell_type": "code",
   "execution_count": 4,
   "metadata": {
    "collapsed": false,
    "scrolled": true
   },
   "outputs": [
    {
     "data": {
      "image/png": "[encoded data removed]",
      "text/plain": [
       "<matplotlib.figure.Figure at 0x106c74940>"
      ]
     },
     "metadata": {},
     "output_type": "display_data"
    }
   ],
   "source": [
    "figsize(4, 4)\n",
    "\n",
    "best_features_dict, best_features_list = useful.find_best_column(bike, 'cnt', int_features)\n",
    "\n",
    "corr_matrix = bike.corr()\n",
    "plt.imshow(np.asarray(corr_matrix), interpolation = 'none', cmap = 'hot')\n",
    "plt.xticks(np.arange(len(bike.columns)), bike.columns)\n",
    "plt.yticks(np.arange(len(bike.columns)), bike.columns)\n",
    "plt.colorbar(orientation = 'vertical');"
   ]
  },
  {
   "cell_type": "code",
   "execution_count": 5,
   "metadata": {
    "collapsed": false
   },
   "outputs": [
    {
     "data": {
      "text/plain": [
       "['workingday',\n",
       " 'yr',\n",
       " 'holiday',\n",
       " 'weekday',\n",
       " 'season',\n",
       " 'mnth',\n",
       " 'weathersit',\n",
       " 'windspeed',\n",
       " 'hum',\n",
       " 'atemp',\n",
       " 'temp',\n",
       " 'hr',\n",
       " 'casual',\n",
       " 'registered']"
      ]
     },
     "execution_count": 5,
     "metadata": {},
     "output_type": "execute_result"
    }
   ],
   "source": [
    "best_features_list\n",
    "# According to the ID3 algorithm 'registered', 'casual', 'hr', 'temp', 'hum', seems to be the top 5 to predict 'cnt'\n",
    "# It's a bit logic here to find 'registered' and 'casual' at the top : cnt = registered + 'casual'"
   ]
  },
  {
   "cell_type": "markdown",
   "metadata": {},
   "source": [
    "### Calculating features\n",
    "It can often be helpful to calculate features before applying machine learning models. Features can enhance the accuracy of models by introducing new information, or distilling existing information.\n",
    "\n",
    "For example here, according to the second plot we did before <i> Bike rented count // hour </i>, the hr column in the bike dataset contains hours that bikes are rented from 1 to 24. A machine will treat each hour differently, and not understand that certain hours are related as seen on the plot.\n",
    "\n",
    "We can introduce some order into this by creating a new column with labels for <i><b> morning, afternoon, evening and night</b></i>.\n",
    "\n",
    "This will cluster up similar times together, and enable the model to make better decisions."
   ]
  },
  {
   "cell_type": "code",
   "execution_count": 6,
   "metadata": {
    "collapsed": false
   },
   "outputs": [],
   "source": [
    "def assign_label(x):\n",
    "    \"\"\"\n",
    "    \n",
    "    Convenience function:\n",
    "        take a numeric value and return corresponding label\n",
    "    \"\"\"\n",
    "    if x <= 6 :\n",
    "        return 4\n",
    "    elif x > 6 and x <= 12:\n",
    "        return 1\n",
    "    elif x > 12 and x <= 18 : \n",
    "        return 2\n",
    "    elif x > 18 : \n",
    "        return 3\n",
    "    \n",
    "\n",
    "bike['time_label'] = bike['hr'].apply(lambda x : assign_label(x))\n",
    "\n",
    "features = ['season','mnth', 'hr', 'holiday', 'weathersit', 'temp', 'atemp',\n",
    "           'hum', 'windspeed', 'time_label', 'weekday', ]"
   ]
  },
  {
   "cell_type": "markdown",
   "metadata": {},
   "source": [
    "if we compute the information_gain again, we will see that time_label will come before 'hr', that means it contains\n",
    "more specific information than hour.\n",
    "\n",
    "### Train/Test Split"
   ]
  },
  {
   "cell_type": "code",
   "execution_count": 7,
   "metadata": {
    "collapsed": false
   },
   "outputs": [],
   "source": [
    "np.random.seed(1)\n",
    "shuffled_index = np.random.permutation(bike.index)\n",
    "shuffled_bike = bike.loc[shuffled_index]\n",
    "\n",
    "split_line = math.floor(len(bike.index) * .8)\n",
    "\n",
    "train = shuffled_bike[:split_line]\n",
    "test = shuffled_bike[split_line:]"
   ]
  },
  {
   "cell_type": "markdown",
   "metadata": {},
   "source": [
    "### Linear Regression \n",
    "Now that we've done some data exploration and manipulation, we're ready to apply linear regression to the data. Linear regression will likely work fairly well on this data, given that many of the columns are highly correlated with cnt.\n",
    "\n",
    "As we learned early, linear regression works best when predictors are linearly correlated to the target, and when predictors are independent, and don't change meaning when combined with each other. The good thing about linear regression is that it is fairly resistant to overfitting because it is simple, but it also can be prone to underfitting the data, and not building a powerful enough model. This means that linear regression usually isn't the most accurate option"
   ]
  },
  {
   "cell_type": "code",
   "execution_count": 8,
   "metadata": {
    "collapsed": false
   },
   "outputs": [
    {
     "name": "stdout",
     "output_type": "stream",
     "text": [
      "0.465418353758\n"
     ]
    }
   ],
   "source": [
    "lr = LinearRegression()\n",
    "lr.fit(train[features], train.cnt)\n",
    "predictions = lr.predict(test[features])\n",
    "\n",
    "mse = mean_squared_error(test['cnt'], predictions)\n",
    "SSE = np.sum((test.cnt - predictions)**2)\n",
    "y_new = np.sum(test.cnt)/len(test.cnt)\n",
    "RSS = np.sum((y_new - predictions)**2) # amount of explain varaince which the model account for\n",
    "TSS = np.sum((test.cnt - y_new)**2) # measure the total among of variation within the data\n",
    "R_squared = RSS / TSS\n",
    "print(R_squared)"
   ]
  },
  {
   "cell_type": "code",
   "execution_count": 9,
   "metadata": {
    "collapsed": false
   },
   "outputs": [
    {
     "data": {
      "text/plain": [
       "17275.307038741044"
      ]
     },
     "execution_count": 9,
     "metadata": {},
     "output_type": "execute_result"
    }
   ],
   "source": [
    "mse"
   ]
  }
 ],
 "metadata": {
  "kernelspec": {
   "display_name": "Python 3",
   "language": "python",
   "name": "python3"
  },
  "language_info": {
   "codemirror_mode": {
    "name": "ipython",
    "version": 3
   },
   "file_extension": ".py",
   "mimetype": "text/x-python",
   "name": "python",
   "nbconvert_exporter": "python",
   "pygments_lexer": "ipython3",
   "version": "3.5.2"
  }
 },
 "nbformat": 4,
 "nbformat_minor": 0
}
