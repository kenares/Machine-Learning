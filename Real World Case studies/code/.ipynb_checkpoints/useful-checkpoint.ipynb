{
 "cells": [
  {
   "cell_type": "code",
   "execution_count": 2,
   "metadata": {
    "collapsed": true
   },
   "outputs": [],
   "source": [
    "class useful():\n",
    "    import numpy as np\n",
    "    def compute_entropy(column):\n",
    "        \"\"\"\n",
    "        Convenience function:\n",
    "            Calculate entropy given a pandas Series, list, or numpy array\n",
    "        \"\"\"\n",
    "        counts = np.bincount(column)\n",
    "        probabilities = counts / len(column)\n",
    "    \n",
    "        entropy = 0\n",
    "    \n",
    "        for prob in probabilities:\n",
    "            if prob > 0 : \n",
    "                entropy += prob * math.log(prob, 2)\n",
    "        \n",
    "        return -entropy\n",
    "\n",
    "    def compute_information_gain(data, split_name, target_name):\n",
    "        \"\"\"\n",
    "        Calculate information gain given a dataset, column to split on, and target\n",
    "        \"\"\"\n",
    "        total_entropy = compute_entropy(data[target_name])\n",
    "    \n",
    "        column = data[split_name]\n",
    "        median = column.median()\n",
    "    \n",
    "        left_split = data[column <= median]\n",
    "        right_split = data[column > median]\n",
    "    \n",
    "        to_subtract = 0\n",
    "    \n",
    "        for subset in [left_split, right_split]:\n",
    "            prob = (subset.shape[0] / data.shape[0])\n",
    "            to_subtract += prob * compute_entropy(subset[target_name])\n",
    "        \n",
    "        return total_entropy - to_subtract\n",
    "\n",
    "\n",
    "    def find_best_column(data, target_name, columns):\n",
    "        \"\"\"\n",
    "        Convenience function:\n",
    "            find the optimale column for ID3 to split on\n",
    "        \"\"\"\n",
    "        information_gain = {}\n",
    "        for column in columns : \n",
    "            information_gain[column] = compute_information_gain(data, column, target_name)\n",
    "        \n",
    "        return information_gain, sorted(information_gain, key = information_gain.get)"
   ]
  },
  {
   "cell_type": "code",
   "execution_count": null,
   "metadata": {
    "collapsed": true
   },
   "outputs": [],
   "source": []
  }
 ],
 "metadata": {
  "kernelspec": {
   "display_name": "Python 3",
   "language": "python",
   "name": "python3"
  },
  "language_info": {
   "codemirror_mode": {
    "name": "ipython",
    "version": 3
   },
   "file_extension": ".py",
   "mimetype": "text/x-python",
   "name": "python",
   "nbconvert_exporter": "python",
   "pygments_lexer": "ipython3",
   "version": "3.5.2"
  }
 },
 "nbformat": 4,
 "nbformat_minor": 0
}
