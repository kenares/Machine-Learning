{
 "cells": [
  {
   "cell_type": "markdown",
   "metadata": {},
   "source": [
    "### Supervised regression task for artificial neural network"
   ]
  },
  {
   "cell_type": "code",
   "execution_count": 1,
   "metadata": {
    "collapsed": true
   },
   "outputs": [],
   "source": [
    "import json\n",
    "import matplotlib\n",
    "import warnings\n",
    "import numpy as np\n",
    "import numpy as np\n",
    "from scipy import optimize\n",
    "from matplotlib import pyplot as plt\n",
    "from IPython.core.pylabtools import figsize\n",
    "from sklearn.metrics import roc_auc_score\n",
    "\n",
    "warnings.simplefilter('ignore')\n",
    "root = r\"/Users/Kenneth-Aristide/anaconda3/bin/python_prog/ML/styles/bmh_matplotlibrc.json\"\n",
    "s = json.load(open(root))\n",
    "matplotlib.rcParams.update(s)\n",
    "%matplotlib inline"
   ]
  },
  {
   "cell_type": "code",
   "execution_count": 2,
   "metadata": {
    "collapsed": false
   },
   "outputs": [],
   "source": [
    "# hours of sleep, hours study, score on test\n",
    "X = np.array(([3, 5], [5, 1], [10, 2]), dtype=float)\n",
    "y = np.array(([75], [82], [93]), dtype=float)\n",
    "# scale the data, here we just dividing by the max\n",
    "X = X / X.max()\n",
    "y = y / y.max() "
   ]
  },
  {
   "cell_type": "code",
   "execution_count": 3,
   "metadata": {
    "collapsed": false
   },
   "outputs": [],
   "source": [
    "#Training Data:\n",
    "trainX = np.array(([3, 5], [5, 1], [10, 2], [6, 1.5]), dtype=float)\n",
    "trainY = np.array(([75], [82], [93], [70]), dtype=float)\n",
    "\n",
    "#Test Data\n",
    "testX = np.array(([4, 5.5], [5.5, 1], [9, 2.5], [6, 2]), dtype = float)\n",
    "testY = np.array(([70], [89], [85], [75]), dtype=float)\n",
    "\n",
    "#Normalized\n",
    "trainX = trainX / np.amax(trainX, axis = 0)\n",
    "trainY = trainY / 100.\n",
    "\n",
    "testX = testX / np.amax(testX, axis = 0)\n",
    "testY = testY / 100."
   ]
  },
  {
   "cell_type": "code",
   "execution_count": 4,
   "metadata": {
    "collapsed": true
   },
   "outputs": [],
   "source": [
    "class _Neural_Network(object):\n",
    "    def __init__(self, Lambda = 0):\n",
    "        #Define hyperparameters\n",
    "        self.inputLayerSize = 2\n",
    "        self.outputLayerSize = 1\n",
    "        self.hiddenLayerSize = 3\n",
    "        \n",
    "        #Regularization parameter\n",
    "        self.Lambda = Lambda\n",
    "        \n",
    "        self.W1 = np.random.rand(self.inputLayerSize, self.hiddenLayerSize)\n",
    "        self.W2 = np.random.rand(self.hiddenLayerSize, self.outputLayerSize)\n",
    "        \n",
    "    def sigmoid(self, z):\n",
    "        return 1 / (1 + np.exp(-z))\n",
    "    \n",
    "    def forward(self, X):\n",
    "        #propagate inputs through network\n",
    "        self.z2 = np.dot(X, self.W1)\n",
    "        self.a2 = self.sigmoid(self.z2)\n",
    "        self.z3 = np.dot(self.a2, self.W2)\n",
    "        yhat = self.sigmoid(self.z3)\n",
    "        return yhat \n",
    "    \n",
    "    def sigmoidPrime(self, z):\n",
    "        #Derivative of Sigmoid Function\n",
    "        return np.exp(-z) / ((1 + np.exp(-z))**2)\n",
    "    \n",
    "    def costFunction(self, X, y):\n",
    "        \"\"\"\n",
    "        linear regression cost function\n",
    "        \"\"\"\n",
    "        self.yhat = self.forward(X)\n",
    "        J = 0.5*sum((y - self.yhat)**2)/X.shape[0] + (self.Lambda/2)*((np.sum(self.W1**2)) + (np.sum(self.W2**2)))\n",
    "        return J\n",
    "    \n",
    "    def costFunctionPrime(self, X, y):\n",
    "        #Compute drivative with respect to W1 and W2\n",
    "        \n",
    "        yhat = self.forward(X)\n",
    "        \n",
    "        delta3 = np.multiply(-(y - yhat), self.sigmoidPrime(self.z3))\n",
    "        dJdW2 = np.dot(self.a2.T, delta3)/X.shape[0] + self.Lambda*self.W2\n",
    "        \n",
    "        delta2 = np.dot(delta3, self.W2.T)*self.sigmoidPrime(self.z2)\n",
    "        dJdW1 = np.dot(X.T, delta2)/X.shape[0] + self.Lambda*self.W1\n",
    "        \n",
    "        return dJdW1, dJdW2\n",
    "    \n",
    "    def getParams(self):\n",
    "        #Set W1, W2, W3 Rolled into vector:\n",
    "        params = np.concatenate((self.W1.ravel(), self.W2.ravel()))\n",
    "        return params\n",
    "    \n",
    "    def setParams(self, params):\n",
    "        #Set W1, W2, W3 unsing single parameter vector:\n",
    "        W1_start = 0\n",
    "        W1_end = self.hiddenLayerSize*self.inputLayerSize\n",
    "        self.W1 = np.reshape(params[W1_start:W1_end], (self.inputLayerSize, self.hiddenLayerSize))\n",
    "        \n",
    "        W2_end = W1_end + self.hiddenLayerSize*self.outputLayerSize\n",
    "        self.W2 = np.reshape(params[W1_end:W2_end], (self.hiddenLayerSize, self.outputLayerSize))\n",
    "        \n",
    "    def computeGradients(self, X, y):\n",
    "        dJdW1, dJdW2  = self.costFunctionPrime(X, y)\n",
    "        return np.concatenate((dJdW1.ravel() ,dJdW2.ravel()))"
   ]
  },
  {
   "cell_type": "code",
   "execution_count": 5,
   "metadata": {
    "collapsed": true
   },
   "outputs": [],
   "source": [
    "class trainer(object):\n",
    "    def __init__(self, N):\n",
    "        #Make local reference to Neural Network:\n",
    "        self.N = N\n",
    "        \n",
    "        \n",
    "    def costFunctionWrapper(self, params, X, y):\n",
    "        self.N.setParams(params)\n",
    "        cost = self.N.costFunction(trainX, trainY)\n",
    "        grad = self.N.computeGradients(X, y)\n",
    "        return cost, grad\n",
    "      \n",
    "    def callBackF(self, params):\n",
    "        self.N.setParams(params)\n",
    "        self.J.append(self.N.costFunction(self.trainX, self.trainY))\n",
    "        self.J_test.append(self.N.costFunction(self.testX, self.testY))\n",
    "        \n",
    "    def train(self, trainX, trainY, testX, testY):\n",
    "        #Make internal variable for callback function\n",
    "        self.trainX = trainX\n",
    "        self.trainY = trainY\n",
    "        \n",
    "        self.testX = testX\n",
    "        self.testY = testY\n",
    "        \n",
    "        #Make empty list to store costs\n",
    "        self.J = []\n",
    "        self.J_test = []\n",
    "        \n",
    "        #initial parameters\n",
    "        params0 = self.N.getParams()\n",
    "        \n",
    "        options = {'maxiter': 1000, 'disp' : True}\n",
    "        _res = optimize.minimize(self.costFunctionWrapper, params0, jac = True, method='BFGS',\\\n",
    "                        args = (trainX, trainY), options = options, callback = self.callBackF )\n",
    "        \n",
    "        self.N.setParams(_res.x)\n",
    "        self.optimizationResults = _res"
   ]
  },
  {
   "cell_type": "code",
   "execution_count": 6,
   "metadata": {
    "collapsed": true
   },
   "outputs": [],
   "source": [
    "def computeNumericalGradient(N, X, y):\n",
    "    paramsInitial = N.getParams()\n",
    "    numgrad = np.zeros(paramsInitial.shape)\n",
    "    pertub = np.zeros(paramsInitial.shape)\n",
    "    e = 1e-4\n",
    "    \n",
    "    for p in np.arange(len(paramsInitial)):\n",
    "        #Set pertubabtion vector\n",
    "        pertub[p] = e\n",
    "        N.setParams(paramsInitial + pertub)\n",
    "        loss2 = N.costFunction(X, y)\n",
    "        \n",
    "        N.setParams(paramsInitial - pertub)\n",
    "        loss1 = N.costFunction(X, y)\n",
    "        \n",
    "        #Compute Numerical Gradient:\n",
    "        numgrad[p] = (loss2 - loss1) / (2*e)\n",
    "        \n",
    "        #Return the value we changed back to zeros\n",
    "        pertub[p] = 0\n",
    "        \n",
    "    #Return Params to original value:\n",
    "    N.setParams(paramsInitial)\n",
    "    \n",
    "    return numgrad"
   ]
  },
  {
   "cell_type": "code",
   "execution_count": 7,
   "metadata": {
    "collapsed": true
   },
   "outputs": [],
   "source": [
    "#to futher reduce overfitting we could increase Lambda\n",
    "NN = _Neural_Network(Lambda = 0.0001)"
   ]
  },
  {
   "cell_type": "code",
   "execution_count": 8,
   "metadata": {
    "collapsed": false
   },
   "outputs": [
    {
     "data": {
      "text/plain": [
       "1.0498162289188615e-10"
      ]
     },
     "execution_count": 8,
     "metadata": {},
     "output_type": "execute_result"
    }
   ],
   "source": [
    "num_grad = computeNumericalGradient(NN, X, y)\n",
    "grad = NN.computeGradients(X, y)\n",
    "\n",
    "#Let's check how similar our two gradient are must be <= 1e-8 \n",
    "(np.linalg.norm(grad - num_grad) / np.linalg.norm(grad + num_grad)) "
   ]
  },
  {
   "cell_type": "code",
   "execution_count": 9,
   "metadata": {
    "collapsed": false
   },
   "outputs": [
    {
     "name": "stdout",
     "output_type": "stream",
     "text": [
      "Optimization terminated successfully.\n",
      "         Current function value: 0.002618\n",
      "         Iterations: 149\n",
      "         Function evaluations: 152\n",
      "         Gradient evaluations: 152\n"
     ]
    }
   ],
   "source": [
    "T = trainer(NN)\n",
    "T.train(trainX, trainY, testX, testY)"
   ]
  },
  {
   "cell_type": "code",
   "execution_count": 10,
   "metadata": {
    "collapsed": false
   },
   "outputs": [
    {
     "data": {
      "image/png": "[encoded data removed]",
      "text/plain": [
       "<matplotlib.figure.Figure at 0x111b53cf8>"
      ]
     },
     "metadata": {},
     "output_type": "display_data"
    }
   ],
   "source": [
    "figsize(12.5, 4)\n",
    "plt.plot(T.J, label = 'training error')\n",
    "plt.plot(T.J_test, label = 'test error')\n",
    "plt.grid(1)\n",
    "plt.ylabel('Cost')\n",
    "plt.xlabel('Iterations');\n",
    "plt.legend(loc = \"upper right\");"
   ]
  },
  {
   "cell_type": "code",
   "execution_count": 11,
   "metadata": {
    "collapsed": false
   },
   "outputs": [
    {
     "data": {
      "text/plain": [
       "array([[ 0.74218245],\n",
       "       [ 0.78035427],\n",
       "       [ 0.85634795]])"
      ]
     },
     "execution_count": 11,
     "metadata": {},
     "output_type": "execute_result"
    }
   ],
   "source": [
    "NN.forward(X)"
   ]
  },
  {
   "cell_type": "code",
   "execution_count": 12,
   "metadata": {
    "collapsed": false
   },
   "outputs": [
    {
     "data": {
      "text/plain": [
       "array([[ 0.80645161],\n",
       "       [ 0.88172043],\n",
       "       [ 1.        ]])"
      ]
     },
     "execution_count": 12,
     "metadata": {},
     "output_type": "execute_result"
    }
   ],
   "source": [
    "y"
   ]
  }
 ],
 "metadata": {
  "kernelspec": {
   "display_name": "Python 3",
   "language": "python",
   "name": "python3"
  },
  "language_info": {
   "codemirror_mode": {
    "name": "ipython",
    "version": 3
   },
   "file_extension": ".py",
   "mimetype": "text/x-python",
   "name": "python",
   "nbconvert_exporter": "python",
   "pygments_lexer": "ipython3",
   "version": "3.5.2"
  }
 },
 "nbformat": 4,
 "nbformat_minor": 0
}
